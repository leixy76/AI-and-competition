{
 "cells": [
  {
   "cell_type": "markdown",
   "id": "1094c368",
   "metadata": {
    "papermill": {
     "duration": 0.003479,
     "end_time": "2024-06-08T01:59:39.731806",
     "exception": false,
     "start_time": "2024-06-08T01:59:39.728327",
     "status": "completed"
    },
    "tags": []
   },
   "source": [
    "## Created by <a href=\"https://github.com/yunsuxiaozi\">yunsuxiaozi</a> 2024/6/8"
   ]
  },
  {
   "cell_type": "code",
   "execution_count": 1,
   "id": "e85a5c21",
   "metadata": {
    "execution": {
     "iopub.execute_input": "2024-06-08T01:59:39.739623Z",
     "iopub.status.busy": "2024-06-08T01:59:39.739176Z",
     "iopub.status.idle": "2024-06-08T01:59:40.904040Z",
     "shell.execute_reply": "2024-06-08T01:59:40.902704Z"
    },
    "papermill": {
     "duration": 1.172733,
     "end_time": "2024-06-08T01:59:40.907500",
     "exception": false,
     "start_time": "2024-06-08T01:59:39.734767",
     "status": "completed"
    },
    "tags": []
   },
   "outputs": [],
   "source": [
    "#necessary\n",
    "import pandas as pd#导入csv文件的库\n",
    "import numpy as np#进行矩阵运算的库\n",
    "import fasttext#高效处理单词表示和句子分类的库\n",
    "import csv#处理csv文件的库(逗号分割值)\n",
    "import random#提供了一些用于生成随机数的函数\n",
    "#设置随机种子,保证模型可以复现\n",
    "def seed_everything(seed):\n",
    "    np.random.seed(seed)#numpy的随机种子\n",
    "    random.seed(seed)#python内置的随机种子\n",
    "seed_everything(seed=2024)"
   ]
  },
  {
   "cell_type": "code",
   "execution_count": 2,
   "id": "bec88780",
   "metadata": {
    "execution": {
     "iopub.execute_input": "2024-06-08T01:59:40.915515Z",
     "iopub.status.busy": "2024-06-08T01:59:40.914945Z",
     "iopub.status.idle": "2024-06-08T02:02:44.626061Z",
     "shell.execute_reply": "2024-06-08T02:02:44.624470Z"
    },
    "papermill": {
     "duration": 183.72648,
     "end_time": "2024-06-08T02:02:44.636895",
     "exception": false,
     "start_time": "2024-06-08T01:59:40.910415",
     "status": "completed"
    },
    "tags": []
   },
   "outputs": [
    {
     "name": "stdout",
     "output_type": "stream",
     "text": [
      "read_files\n"
     ]
    },
    {
     "data": {
      "text/html": [
       "<div>\n",
       "<style scoped>\n",
       "    .dataframe tbody tr th:only-of-type {\n",
       "        vertical-align: middle;\n",
       "    }\n",
       "\n",
       "    .dataframe tbody tr th {\n",
       "        vertical-align: top;\n",
       "    }\n",
       "\n",
       "    .dataframe thead th {\n",
       "        text-align: right;\n",
       "    }\n",
       "</style>\n",
       "<table border=\"1\" class=\"dataframe\">\n",
       "  <thead>\n",
       "    <tr style=\"text-align: right;\">\n",
       "      <th></th>\n",
       "      <th>label</th>\n",
       "      <th>abstract</th>\n",
       "    </tr>\n",
       "  </thead>\n",
       "  <tbody>\n",
       "    <tr>\n",
       "      <th>1500000</th>\n",
       "      <td>6</td>\n",
       "      <td>Collisional threats posed by Near-Earth Obje...</td>\n",
       "    </tr>\n",
       "    <tr>\n",
       "      <th>1500001</th>\n",
       "      <td>0</td>\n",
       "      <td>Recognizing the patient's emotions using dee...</td>\n",
       "    </tr>\n",
       "    <tr>\n",
       "      <th>1500002</th>\n",
       "      <td>0</td>\n",
       "      <td>Prior work on diagnosing Alzheimer's disease...</td>\n",
       "    </tr>\n",
       "    <tr>\n",
       "      <th>1500003</th>\n",
       "      <td>0</td>\n",
       "      <td>In this paper, we propose a joint radio and ...</td>\n",
       "    </tr>\n",
       "    <tr>\n",
       "      <th>1500004</th>\n",
       "      <td>0</td>\n",
       "      <td>In recent years, recommendation systems have...</td>\n",
       "    </tr>\n",
       "  </tbody>\n",
       "</table>\n",
       "</div>"
      ],
      "text/plain": [
       "         label                                           abstract\n",
       "1500000      6    Collisional threats posed by Near-Earth Obje...\n",
       "1500001      0    Recognizing the patient's emotions using dee...\n",
       "1500002      0    Prior work on diagnosing Alzheimer's disease...\n",
       "1500003      0    In this paper, we propose a joint radio and ...\n",
       "1500004      0    In recent years, recommendation systems have..."
      ]
     },
     "execution_count": 2,
     "metadata": {},
     "output_type": "execute_result"
    }
   ],
   "source": [
    "print(\"read_files\")\n",
    "arxiv=pd.read_json(\"/kaggle/input/arxiv/arxiv-metadata-oai-snapshot.json\",lines=True)\n",
    "#大类应该就是这些\n",
    "category=['cs','math','eess','stat','hep','cond-mat','astro','gr','nlin','q-bio',\n",
    "                'quant','nucl','q-fin','econ']\n",
    "def get_category(c):\n",
    "    for i in range(len(category)):\n",
    "        if category[i] in c:\n",
    "            return i\n",
    "arxiv['label']=arxiv['categories'].apply(lambda x:get_category(x))\n",
    "train_feats=arxiv[['label','abstract']][:1500000]\n",
    "valid_feats=arxiv[['label','abstract']][1500000:]\n",
    "valid_feats.head()"
   ]
  },
  {
   "cell_type": "code",
   "execution_count": 3,
   "id": "971b4172",
   "metadata": {
    "execution": {
     "iopub.execute_input": "2024-06-08T02:02:44.646267Z",
     "iopub.status.busy": "2024-06-08T02:02:44.645800Z",
     "iopub.status.idle": "2024-06-08T02:08:42.246643Z",
     "shell.execute_reply": "2024-06-08T02:08:42.243428Z"
    },
    "papermill": {
     "duration": 357.61124,
     "end_time": "2024-06-08T02:08:42.251527",
     "exception": false,
     "start_time": "2024-06-08T02:02:44.640287",
     "status": "completed"
    },
    "tags": []
   },
   "outputs": [
    {
     "name": "stderr",
     "output_type": "stream",
     "text": [
      "Read 233M words\n",
      "Number of words:  3714332\n",
      "Number of labels: 14\n",
      "Progress: 100.0% words/sec/thread: 2864544 lr:  0.000000 avg.loss:  0.734348 ETA:   0h 0m 0s\n"
     ]
    }
   ],
   "source": [
    "train_text=train_feats['abstract'].values\n",
    "train_label=train_feats['label'].values\n",
    "train_data=[f'__label__{train_label[i]} '+train_text[i] for i in range(len(train_text))]\n",
    "data = pd.DataFrame(train_data)\n",
    "data.to_csv(\"train.txt\", #输出文件的名称\n",
    "            index=False,#不包含行索引(0,1,2,3,4,……)\n",
    "            sep=' ', #以空格为分隔符\n",
    "            header=False,#不包含列名\n",
    "            quoting=csv.QUOTE_NONE, #写入csv文件时不要为任何字段添加引号\n",
    "            quotechar=\"\",#空字符是安全的\n",
    "            escapechar=\" \"#引号被设置为一个空字符串.\n",
    "           )\n",
    "#训练一个监督学习模型\n",
    "model = fasttext.train_supervised('train.txt',#文件路径 \n",
    "                                  label_prefix='__label__',#指定的前缀\n",
    "                                  thread=4, #开了4个线程加速运算\n",
    "                                  epoch = 12,#模型训练100次\n",
    "                                 )\n",
    "# 使用 fasttext 提供的 save_model 方法保存模型\n",
    "model.save_model('fasttext_arxivcategory.model')\n",
    "## 加载之前保存的模型\n",
    "#model = fasttext.load_model('fasttext_arxivcategory.model')"
   ]
  },
  {
   "cell_type": "code",
   "execution_count": 4,
   "id": "2be8bf6e",
   "metadata": {
    "execution": {
     "iopub.execute_input": "2024-06-08T02:08:42.469356Z",
     "iopub.status.busy": "2024-06-08T02:08:42.468805Z",
     "iopub.status.idle": "2024-06-08T02:09:47.982732Z",
     "shell.execute_reply": "2024-06-08T02:09:47.981474Z"
    },
    "papermill": {
     "duration": 65.713624,
     "end_time": "2024-06-08T02:09:48.077260",
     "exception": false,
     "start_time": "2024-06-08T02:08:42.363636",
     "status": "completed"
    },
    "tags": []
   },
   "outputs": [
    {
     "name": "stdout",
     "output_type": "stream",
     "text": [
      "accuracy:0.79926104897164\n"
     ]
    }
   ],
   "source": [
    "valid_text=list(valid_feats['abstract'].values)\n",
    "valid_text = [w.replace('\\n', '') for w in valid_text]\n",
    "preds,pro= model.predict(valid_text,k=len(model.labels))\n",
    "\n",
    "preds=np.array([int(pred[0][9:])for pred in preds])\n",
    "true=valid_feats['label'].values\n",
    "print(f\"accuracy:{np.mean(preds==true)}\")"
   ]
  }
 ],
 "metadata": {
  "kaggle": {
   "accelerator": "none",
   "dataSources": [
    {
     "datasetId": 612177,
     "sourceId": 8581546,
     "sourceType": "datasetVersion"
    }
   ],
   "dockerImageVersionId": 30732,
   "isGpuEnabled": false,
   "isInternetEnabled": true,
   "language": "python",
   "sourceType": "notebook"
  },
  "kernelspec": {
   "display_name": "Python 3",
   "language": "python",
   "name": "python3"
  },
  "language_info": {
   "codemirror_mode": {
    "name": "ipython",
    "version": 3
   },
   "file_extension": ".py",
   "mimetype": "text/x-python",
   "name": "python",
   "nbconvert_exporter": "python",
   "pygments_lexer": "ipython3",
   "version": "3.10.13"
  },
  "papermill": {
   "default_parameters": {},
   "duration": 616.057567,
   "end_time": "2024-06-08T02:09:52.429199",
   "environment_variables": {},
   "exception": null,
   "input_path": "__notebook__.ipynb",
   "output_path": "__notebook__.ipynb",
   "parameters": {},
   "start_time": "2024-06-08T01:59:36.371632",
   "version": "2.5.0"
  }
 },
 "nbformat": 4,
 "nbformat_minor": 5
}
