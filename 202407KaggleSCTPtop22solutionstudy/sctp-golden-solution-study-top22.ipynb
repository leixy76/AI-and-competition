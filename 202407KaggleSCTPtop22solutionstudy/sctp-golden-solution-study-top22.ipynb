{
 "cells": [
  {
   "cell_type": "markdown",
   "id": "cb08b6a9",
   "metadata": {
    "_cell_guid": "b1076dfc-b9ad-4769-8c92-a6c4dae69d19",
    "_uuid": "8f2839f25d086af736a60e9eeb907d3b93b6e0e5",
    "papermill": {
     "duration": 0.006509,
     "end_time": "2024-07-03T02:39:55.695615",
     "exception": false,
     "start_time": "2024-07-03T02:39:55.689106",
     "status": "completed"
    },
    "tags": []
   },
   "source": [
    "## Created by <a href=\"https://github.com/yunsuxiaozi/\">yunsuxiaozi</a>  2024/7/3\n",
    "\n",
    "\n",
    "#### 曾经有大佬说过,只有多读论文,多看比赛的top solution,才能变得更厉害。\n",
    "\n",
    "#### 这里我找到了Kaggle的Feature比赛里参赛人数最多的一场比赛,总共有8751支队伍参赛。比赛链接是<a href=\"https://www.kaggle.com/competitions/santander-customer-transaction-prediction\">Santander Customer Transaction Prediction</a>我这次看的开源方案:<a href=\"https://www.kaggle.com/code/titericz/giba-single-model-public-0-9245-private-0-9234\">Giba Single Model</a>,这个开源方案能够在比赛中拿到金牌,并且方案相对简单,所以这里我打算仔细学习一下这个开源方案。"
   ]
  },
  {
   "cell_type": "markdown",
   "id": "c7fefc92",
   "metadata": {
    "papermill": {
     "duration": 0.005651,
     "end_time": "2024-07-03T02:39:55.707754",
     "exception": false,
     "start_time": "2024-07-03T02:39:55.702103",
     "status": "completed"
    },
    "tags": []
   },
   "source": [
    "### 1.这里就是导入必要的python库,并固定随机种子,保证模型可以复现。\n",
    "\n",
    "\n",
    "#### 话说,原作者代码好像没固定随机种子?"
   ]
  },
  {
   "cell_type": "code",
   "execution_count": 1,
   "id": "7adb2044",
   "metadata": {
    "execution": {
     "iopub.execute_input": "2024-07-03T02:39:55.721242Z",
     "iopub.status.busy": "2024-07-03T02:39:55.720846Z",
     "iopub.status.idle": "2024-07-03T02:39:59.204003Z",
     "shell.execute_reply": "2024-07-03T02:39:59.202885Z"
    },
    "papermill": {
     "duration": 3.493196,
     "end_time": "2024-07-03T02:39:59.206868",
     "exception": false,
     "start_time": "2024-07-03T02:39:55.713672",
     "status": "completed"
    },
    "tags": []
   },
   "outputs": [],
   "source": [
    "import numpy as np#矩阵运算与科学计算的库\n",
    "import pandas as pd#读取csv文件的库\n",
    "#model\n",
    "import lightgbm as lgb#导入lightgbm模型,这是一个集成学习模型\n",
    "# #KFold是直接分成k折,StratifiedKFold还要考虑每种类别的占比\n",
    "from sklearn.model_selection import StratifiedKFold\n",
    "import gc#垃圾回收模块\n",
    "import warnings#避免一些可以忽略的报错\n",
    "warnings.filterwarnings('ignore')#filterwarnings()方法是用于设置警告过滤器的方法，它可以控制警告信息的输出方式和级别。\n",
    "\n",
    "import random#提供了一些用于生成随机数的函数\n",
    "#设置随机种子,保证模型可以复现\n",
    "def seed_everything(seed):\n",
    "    np.random.seed(seed)#numpy的随机种子\n",
    "    random.seed(seed)#python内置的随机种子\n",
    "seed_everything(seed=2024)"
   ]
  },
  {
   "cell_type": "markdown",
   "id": "f4d7246f",
   "metadata": {
    "papermill": {
     "duration": 0.005726,
     "end_time": "2024-07-03T02:39:59.218900",
     "exception": false,
     "start_time": "2024-07-03T02:39:59.213174",
     "status": "completed"
    },
    "tags": []
   },
   "source": [
    "### 2.读取训练数据和测试数据,看看数据长啥样.\n",
    "\n",
    "- ID-code:就是数据的编号,没什么用。\n",
    "\n",
    "- target:就是我们需要预测的目标,这是一个二分类任务,评估指标为roc_auc.\n",
    "\n",
    "- var:就是200个变量,也就是我们的特征。"
   ]
  },
  {
   "cell_type": "code",
   "execution_count": 2,
   "id": "56505823",
   "metadata": {
    "execution": {
     "iopub.execute_input": "2024-07-03T02:39:59.232761Z",
     "iopub.status.busy": "2024-07-03T02:39:59.232147Z",
     "iopub.status.idle": "2024-07-03T02:40:21.795250Z",
     "shell.execute_reply": "2024-07-03T02:40:21.794096Z"
    },
    "papermill": {
     "duration": 22.573042,
     "end_time": "2024-07-03T02:40:21.797935",
     "exception": false,
     "start_time": "2024-07-03T02:39:59.224893",
     "status": "completed"
    },
    "tags": []
   },
   "outputs": [
    {
     "data": {
      "text/html": [
       "<div>\n",
       "<style scoped>\n",
       "    .dataframe tbody tr th:only-of-type {\n",
       "        vertical-align: middle;\n",
       "    }\n",
       "\n",
       "    .dataframe tbody tr th {\n",
       "        vertical-align: top;\n",
       "    }\n",
       "\n",
       "    .dataframe thead th {\n",
       "        text-align: right;\n",
       "    }\n",
       "</style>\n",
       "<table border=\"1\" class=\"dataframe\">\n",
       "  <thead>\n",
       "    <tr style=\"text-align: right;\">\n",
       "      <th></th>\n",
       "      <th>ID_code</th>\n",
       "      <th>target</th>\n",
       "      <th>var_0</th>\n",
       "      <th>var_1</th>\n",
       "      <th>var_2</th>\n",
       "      <th>var_3</th>\n",
       "      <th>var_4</th>\n",
       "      <th>var_5</th>\n",
       "      <th>var_6</th>\n",
       "      <th>var_7</th>\n",
       "      <th>...</th>\n",
       "      <th>var_190</th>\n",
       "      <th>var_191</th>\n",
       "      <th>var_192</th>\n",
       "      <th>var_193</th>\n",
       "      <th>var_194</th>\n",
       "      <th>var_195</th>\n",
       "      <th>var_196</th>\n",
       "      <th>var_197</th>\n",
       "      <th>var_198</th>\n",
       "      <th>var_199</th>\n",
       "    </tr>\n",
       "  </thead>\n",
       "  <tbody>\n",
       "    <tr>\n",
       "      <th>0</th>\n",
       "      <td>train_0</td>\n",
       "      <td>0</td>\n",
       "      <td>8.9255</td>\n",
       "      <td>-6.7863</td>\n",
       "      <td>11.9081</td>\n",
       "      <td>5.0930</td>\n",
       "      <td>11.4607</td>\n",
       "      <td>-9.2834</td>\n",
       "      <td>5.1187</td>\n",
       "      <td>18.6266</td>\n",
       "      <td>...</td>\n",
       "      <td>4.4354</td>\n",
       "      <td>3.9642</td>\n",
       "      <td>3.1364</td>\n",
       "      <td>1.6910</td>\n",
       "      <td>18.5227</td>\n",
       "      <td>-2.3978</td>\n",
       "      <td>7.8784</td>\n",
       "      <td>8.5635</td>\n",
       "      <td>12.7803</td>\n",
       "      <td>-1.0914</td>\n",
       "    </tr>\n",
       "    <tr>\n",
       "      <th>1</th>\n",
       "      <td>train_1</td>\n",
       "      <td>0</td>\n",
       "      <td>11.5006</td>\n",
       "      <td>-4.1473</td>\n",
       "      <td>13.8588</td>\n",
       "      <td>5.3890</td>\n",
       "      <td>12.3622</td>\n",
       "      <td>7.0433</td>\n",
       "      <td>5.6208</td>\n",
       "      <td>16.5338</td>\n",
       "      <td>...</td>\n",
       "      <td>7.6421</td>\n",
       "      <td>7.7214</td>\n",
       "      <td>2.5837</td>\n",
       "      <td>10.9516</td>\n",
       "      <td>15.4305</td>\n",
       "      <td>2.0339</td>\n",
       "      <td>8.1267</td>\n",
       "      <td>8.7889</td>\n",
       "      <td>18.3560</td>\n",
       "      <td>1.9518</td>\n",
       "    </tr>\n",
       "    <tr>\n",
       "      <th>2</th>\n",
       "      <td>train_2</td>\n",
       "      <td>0</td>\n",
       "      <td>8.6093</td>\n",
       "      <td>-2.7457</td>\n",
       "      <td>12.0805</td>\n",
       "      <td>7.8928</td>\n",
       "      <td>10.5825</td>\n",
       "      <td>-9.0837</td>\n",
       "      <td>6.9427</td>\n",
       "      <td>14.6155</td>\n",
       "      <td>...</td>\n",
       "      <td>2.9057</td>\n",
       "      <td>9.7905</td>\n",
       "      <td>1.6704</td>\n",
       "      <td>1.6858</td>\n",
       "      <td>21.6042</td>\n",
       "      <td>3.1417</td>\n",
       "      <td>-6.5213</td>\n",
       "      <td>8.2675</td>\n",
       "      <td>14.7222</td>\n",
       "      <td>0.3965</td>\n",
       "    </tr>\n",
       "    <tr>\n",
       "      <th>3</th>\n",
       "      <td>train_3</td>\n",
       "      <td>0</td>\n",
       "      <td>11.0604</td>\n",
       "      <td>-2.1518</td>\n",
       "      <td>8.9522</td>\n",
       "      <td>7.1957</td>\n",
       "      <td>12.5846</td>\n",
       "      <td>-1.8361</td>\n",
       "      <td>5.8428</td>\n",
       "      <td>14.9250</td>\n",
       "      <td>...</td>\n",
       "      <td>4.4666</td>\n",
       "      <td>4.7433</td>\n",
       "      <td>0.7178</td>\n",
       "      <td>1.4214</td>\n",
       "      <td>23.0347</td>\n",
       "      <td>-1.2706</td>\n",
       "      <td>-2.9275</td>\n",
       "      <td>10.2922</td>\n",
       "      <td>17.9697</td>\n",
       "      <td>-8.9996</td>\n",
       "    </tr>\n",
       "    <tr>\n",
       "      <th>4</th>\n",
       "      <td>train_4</td>\n",
       "      <td>0</td>\n",
       "      <td>9.8369</td>\n",
       "      <td>-1.4834</td>\n",
       "      <td>12.8746</td>\n",
       "      <td>6.6375</td>\n",
       "      <td>12.2772</td>\n",
       "      <td>2.4486</td>\n",
       "      <td>5.9405</td>\n",
       "      <td>19.2514</td>\n",
       "      <td>...</td>\n",
       "      <td>-1.4905</td>\n",
       "      <td>9.5214</td>\n",
       "      <td>-0.1508</td>\n",
       "      <td>9.1942</td>\n",
       "      <td>13.2876</td>\n",
       "      <td>-1.5121</td>\n",
       "      <td>3.9267</td>\n",
       "      <td>9.5031</td>\n",
       "      <td>17.9974</td>\n",
       "      <td>-8.8104</td>\n",
       "    </tr>\n",
       "  </tbody>\n",
       "</table>\n",
       "<p>5 rows × 202 columns</p>\n",
       "</div>"
      ],
      "text/plain": [
       "   ID_code  target    var_0   var_1    var_2   var_3    var_4   var_5   var_6  \\\n",
       "0  train_0       0   8.9255 -6.7863  11.9081  5.0930  11.4607 -9.2834  5.1187   \n",
       "1  train_1       0  11.5006 -4.1473  13.8588  5.3890  12.3622  7.0433  5.6208   \n",
       "2  train_2       0   8.6093 -2.7457  12.0805  7.8928  10.5825 -9.0837  6.9427   \n",
       "3  train_3       0  11.0604 -2.1518   8.9522  7.1957  12.5846 -1.8361  5.8428   \n",
       "4  train_4       0   9.8369 -1.4834  12.8746  6.6375  12.2772  2.4486  5.9405   \n",
       "\n",
       "     var_7  ...  var_190  var_191  var_192  var_193  var_194  var_195  \\\n",
       "0  18.6266  ...   4.4354   3.9642   3.1364   1.6910  18.5227  -2.3978   \n",
       "1  16.5338  ...   7.6421   7.7214   2.5837  10.9516  15.4305   2.0339   \n",
       "2  14.6155  ...   2.9057   9.7905   1.6704   1.6858  21.6042   3.1417   \n",
       "3  14.9250  ...   4.4666   4.7433   0.7178   1.4214  23.0347  -1.2706   \n",
       "4  19.2514  ...  -1.4905   9.5214  -0.1508   9.1942  13.2876  -1.5121   \n",
       "\n",
       "   var_196  var_197  var_198  var_199  \n",
       "0   7.8784   8.5635  12.7803  -1.0914  \n",
       "1   8.1267   8.7889  18.3560   1.9518  \n",
       "2  -6.5213   8.2675  14.7222   0.3965  \n",
       "3  -2.9275  10.2922  17.9697  -8.9996  \n",
       "4   3.9267   9.5031  17.9974  -8.8104  \n",
       "\n",
       "[5 rows x 202 columns]"
      ]
     },
     "execution_count": 2,
     "metadata": {},
     "output_type": "execute_result"
    }
   ],
   "source": [
    "#读取训练数据和测试数据\n",
    "train_df = pd.read_csv(\"/kaggle/input/santander-customer-transaction-prediction/train.csv\")\n",
    "test_df = pd.read_csv(\"/kaggle/input/santander-customer-transaction-prediction/test.csv\")\n",
    "train_df.head()"
   ]
  },
  {
   "cell_type": "markdown",
   "id": "d4a980a3",
   "metadata": {
    "papermill": {
     "duration": 0.006252,
     "end_time": "2024-07-03T02:40:21.810748",
     "exception": false,
     "start_time": "2024-07-03T02:40:21.804496",
     "status": "completed"
    },
    "tags": []
   },
   "source": [
    "###  3.特征工程\n",
    "\n",
    "#### 如果一个变量和target是负相关,那就乘以-1把它变成正相关。由于这是树模型,恕我直言,这个可能没什么用?"
   ]
  },
  {
   "cell_type": "code",
   "execution_count": 3,
   "id": "ea05a8cf",
   "metadata": {
    "execution": {
     "iopub.execute_input": "2024-07-03T02:40:21.825619Z",
     "iopub.status.busy": "2024-07-03T02:40:21.825208Z",
     "iopub.status.idle": "2024-07-03T02:40:22.547389Z",
     "shell.execute_reply": "2024-07-03T02:40:22.546116Z"
    },
    "papermill": {
     "duration": 0.733097,
     "end_time": "2024-07-03T02:40:22.550359",
     "exception": false,
     "start_time": "2024-07-03T02:40:21.817262",
     "status": "completed"
    },
    "tags": []
   },
   "outputs": [],
   "source": [
    "#除了target以外的所有特征\n",
    "features = [x for x in train_df.columns if x.startswith(\"var\")]\n",
    "#对于变量特征,如果和target的相关性是负相关,则乘-1变成正相关\n",
    "for var in features:\n",
    "    if np.corrcoef( train_df['target'], train_df[var] )[1][0] < 0:\n",
    "        train_df[var] = train_df[var] * -1\n",
    "        test_df[var]  = test_df[var]  * -1"
   ]
  },
  {
   "cell_type": "markdown",
   "id": "c4c48ae2",
   "metadata": {
    "papermill": {
     "duration": 0.006407,
     "end_time": "2024-07-03T02:40:22.563659",
     "exception": false,
     "start_time": "2024-07-03T02:40:22.557252",
     "status": "completed"
    },
    "tags": []
   },
   "source": [
    "#### hist_df+遍历特征代码: 统计全体(训练+测试)每个数值在数据中出现的次数,看看测试数据中每个数值在全体的出现次数,如果大于1为True,否则为False.(由于是看测试数据,所以每个数值在测试数据中首先出现了一次,大于1可能是在测试数据中还出现过,也有可能是在训练数据出现过)最后得到的hist_df是和测试数据同样大小,看每个测试数据每行的每个数值在全体数据中出现是否大于1次的True False表。\n",
    "\n",
    "#### ind:就是看每行是否都是True,都是True的话就等于200,不等于200就意味着测试集这行某列有数据是全体数据这列唯一一次的数据,这些数据是在训练集中绝对没有出现过的。"
   ]
  },
  {
   "cell_type": "code",
   "execution_count": 4,
   "id": "2e018861",
   "metadata": {
    "execution": {
     "iopub.execute_input": "2024-07-03T02:40:22.579132Z",
     "iopub.status.busy": "2024-07-03T02:40:22.578339Z",
     "iopub.status.idle": "2024-07-03T02:40:33.003916Z",
     "shell.execute_reply": "2024-07-03T02:40:33.002781Z"
    },
    "papermill": {
     "duration": 10.436426,
     "end_time": "2024-07-03T02:40:33.006751",
     "exception": false,
     "start_time": "2024-07-03T02:40:22.570325",
     "status": "completed"
    },
    "tags": []
   },
   "outputs": [],
   "source": [
    "hist_df = pd.DataFrame()\n",
    "for var in features:\n",
    "    #统计训练数据和测试数据total_df var列每个值出现的次数\n",
    "    var_stats = pd.concat((train_df[var],test_df[var])).value_counts()\n",
    "    #测试集出现的值和出现次数的映射\n",
    "    hist_df[var] = pd.Series(test_df[var]).map(var_stats)\n",
    "    #最后判断一下var这列的值是否大于1\n",
    "    hist_df[var] = (hist_df[var] > 1)\n",
    "    \n",
    "#测试数据某行的是否有var的值在训练数据中没有出现,在测试数据只出现一次\n",
    "ind = (hist_df.sum(axis=1) != 200)"
   ]
  },
  {
   "cell_type": "markdown",
   "id": "fca12e0b",
   "metadata": {
    "papermill": {
     "duration": 0.006538,
     "end_time": "2024-07-03T02:40:33.020382",
     "exception": false,
     "start_time": "2024-07-03T02:40:33.013844",
     "status": "completed"
    },
    "tags": []
   },
   "source": [
    "#### 把训练集和训练集中没出现(因为在全体数据中出现一次)的数据一起做一个value_count()。"
   ]
  },
  {
   "cell_type": "code",
   "execution_count": 5,
   "id": "e8796518",
   "metadata": {
    "execution": {
     "iopub.execute_input": "2024-07-03T02:40:33.035820Z",
     "iopub.status.busy": "2024-07-03T02:40:33.035386Z",
     "iopub.status.idle": "2024-07-03T02:41:16.805726Z",
     "shell.execute_reply": "2024-07-03T02:41:16.804451Z"
    },
    "papermill": {
     "duration": 43.781667,
     "end_time": "2024-07-03T02:41:16.808901",
     "exception": false,
     "start_time": "2024-07-03T02:40:33.027234",
     "status": "completed"
    },
    "tags": []
   },
   "outputs": [],
   "source": [
    "#某列var 最终的value_counts统计\n",
    "var_stats = {}\n",
    "for var in features:\n",
    "    #训练数据和测试数据中存在特有的只出现一次index进行value_counts统计.\n",
    "    var_stats[var] = pd.concat((train_df[var],test_df[ind][var])).value_counts()"
   ]
  },
  {
   "cell_type": "markdown",
   "id": "9637bf14",
   "metadata": {
    "papermill": {
     "duration": 0.007279,
     "end_time": "2024-07-03T02:41:16.823499",
     "exception": false,
     "start_time": "2024-07-03T02:41:16.816220",
     "status": "completed"
    },
    "tags": []
   },
   "source": [
    "#### 这是一个函数,传入的是变量vr,变量的value_count():var_stats,和这是第几个变量feat_id。得到的是变量自身,变量的count,变量的id,归一化后的变量排名。"
   ]
  },
  {
   "cell_type": "code",
   "execution_count": 6,
   "id": "8933c022",
   "metadata": {
    "execution": {
     "iopub.execute_input": "2024-07-03T02:41:16.840039Z",
     "iopub.status.busy": "2024-07-03T02:41:16.839614Z",
     "iopub.status.idle": "2024-07-03T02:41:16.847265Z",
     "shell.execute_reply": "2024-07-03T02:41:16.845951Z"
    },
    "papermill": {
     "duration": 0.019139,
     "end_time": "2024-07-03T02:41:16.850009",
     "exception": false,
     "start_time": "2024-07-03T02:41:16.830870",
     "status": "completed"
    },
    "tags": []
   },
   "outputs": [],
   "source": [
    "#变量自身,变量的count,第几个变量,归一化后变量的排名\n",
    "def var_to_feat(vr, var_stats, feat_id ):\n",
    "    #创建新的表格\n",
    "    new_df = pd.DataFrame()\n",
    "    #传入的train_df[var].values\n",
    "    new_df[\"var\"] = vr.values\n",
    "    #vr对应的count\n",
    "    new_df[\"hist\"] = pd.Series(vr).map(var_stats)\n",
    "    #第几个变量\n",
    "    new_df[\"feature_id\"] = feat_id\n",
    "    #归一化后的变量排名\n",
    "    new_df[\"var_rank\"] = new_df[\"var\"].rank()/len(vr)\n",
    "    return new_df.values"
   ]
  },
  {
   "cell_type": "markdown",
   "id": "2adaa063",
   "metadata": {
    "papermill": {
     "duration": 0.006518,
     "end_time": "2024-07-03T02:41:16.863906",
     "exception": false,
     "start_time": "2024-07-03T02:41:16.857388",
     "status": "completed"
    },
    "tags": []
   },
   "source": [
    "#### 比赛有200个var和target,他这里选择用var_0构造的4个特征预测target,var_1构造的4个特征预测target,……所以实际上他有了200倍的训练数据。"
   ]
  },
  {
   "cell_type": "code",
   "execution_count": 7,
   "id": "ddb3bd78",
   "metadata": {
    "execution": {
     "iopub.execute_input": "2024-07-03T02:41:16.879595Z",
     "iopub.status.busy": "2024-07-03T02:41:16.879175Z",
     "iopub.status.idle": "2024-07-03T02:41:33.363299Z",
     "shell.execute_reply": "2024-07-03T02:41:33.362016Z"
    },
    "papermill": {
     "duration": 16.494948,
     "end_time": "2024-07-03T02:41:33.365875",
     "exception": false,
     "start_time": "2024-07-03T02:41:16.870927",
     "status": "completed"
    },
    "tags": []
   },
   "outputs": [
    {
     "name": "stdout",
     "output_type": "stream",
     "text": [
      "TRAIN.shape:(40000000, 4),len(TARGET):40000000\n"
     ]
    }
   ],
   "source": [
    "#var_0构造特征和target,var_1构造特征和target,……搞了200倍的数据\n",
    "\n",
    "#就是把训练数据的target*200\n",
    "TARGET = np.array( list(train_df['target'].values) * 200 )\n",
    "TRAIN = []\n",
    "var_mean = {}\n",
    "var_var  = {}\n",
    "for var in features:\n",
    "    #train_df[var]是数据,var_stats[var]是value_counts统计,'var_0':第几个变量\n",
    "    tmp = var_to_feat(train_df[var], var_stats[var], int(var[4:]) )\n",
    "    #变量本身的均值,方差\n",
    "    var_mean[var],var_var[var] = np.mean(tmp[:,0]),np.var(tmp[:,0])\n",
    "    #归一化后的数值\n",
    "    tmp[:,0] = (tmp[:,0]-var_mean[var])/var_var[var]\n",
    "    #训练数据\n",
    "    TRAIN.append( tmp )\n",
    "TRAIN = np.vstack( TRAIN )\n",
    "\n",
    "#清理数据\n",
    "del train_df\n",
    "gc.collect()\n",
    "print(f\"TRAIN.shape:{TRAIN.shape},len(TARGET):{len(TARGET)}\")"
   ]
  },
  {
   "cell_type": "markdown",
   "id": "480350c9",
   "metadata": {
    "papermill": {
     "duration": 0.006617,
     "end_time": "2024-07-03T02:41:33.380529",
     "exception": false,
     "start_time": "2024-07-03T02:41:33.373912",
     "status": "completed"
    },
    "tags": []
   },
   "source": [
    "### 4.模型的训练\n",
    "\n",
    "#### 模型的训练过程很常规,这里没什么好说的。"
   ]
  },
  {
   "cell_type": "code",
   "execution_count": 8,
   "id": "e0d99ef5",
   "metadata": {
    "execution": {
     "iopub.execute_input": "2024-07-03T02:41:33.396541Z",
     "iopub.status.busy": "2024-07-03T02:41:33.396122Z",
     "iopub.status.idle": "2024-07-03T04:30:31.125016Z",
     "shell.execute_reply": "2024-07-03T04:30:31.123878Z"
    },
    "papermill": {
     "duration": 6537.747875,
     "end_time": "2024-07-03T04:30:31.135321",
     "exception": false,
     "start_time": "2024-07-03T02:41:33.387446",
     "status": "completed"
    },
    "tags": []
   },
   "outputs": [
    {
     "name": "stdout",
     "output_type": "stream",
     "text": [
      "Fold: 0\n",
      "Fold: 1\n",
      "Fold: 2\n",
      "Fold: 3\n",
      "Fold: 4\n",
      "Fold: 5\n",
      "Fold: 6\n",
      "Fold: 7\n",
      "Fold: 8\n",
      "Fold: 9\n"
     ]
    },
    {
     "data": {
      "text/plain": [
       "163"
      ]
     },
     "execution_count": 8,
     "metadata": {},
     "output_type": "execute_result"
    }
   ],
   "source": [
    "#模型的训练很常规,就不看了\n",
    "model = lgb.LGBMClassifier(**{\n",
    "     'learning_rate': 0.04,\n",
    "     'num_leaves': 31,\n",
    "     'max_bin': 1023,\n",
    "     'min_child_samples': 1000,\n",
    "     'reg_alpha': 0.1,\n",
    "     'reg_lambda': 0.2,\n",
    "     'feature_fraction': 1.0,\n",
    "     'bagging_freq': 1,\n",
    "     'bagging_fraction': 0.85,\n",
    "     'objective': 'binary',\n",
    "     'n_jobs': -1,\n",
    "     'n_estimators':120,\n",
    "     \"verbose\": -1\n",
    "})\n",
    "MODELS = []\n",
    "skf = StratifiedKFold(n_splits=10, shuffle=True, random_state=2024)\n",
    "for fold, (train_indexes, valid_indexes) in enumerate(skf.split(TRAIN, TARGET)):\n",
    "    print('Fold:', fold )\n",
    "    model = model.fit( TRAIN[train_indexes], TARGET[train_indexes],\n",
    "                      eval_set = (TRAIN[valid_indexes], TARGET[valid_indexes]),\n",
    "                      eval_metric='auc',\n",
    "                      categorical_feature = [2] )\n",
    "    MODELS.append( model )\n",
    "del TRAIN, TARGET\n",
    "gc.collect()"
   ]
  },
  {
   "cell_type": "markdown",
   "id": "ccc20900",
   "metadata": {
    "papermill": {
     "duration": 0.007998,
     "end_time": "2024-07-03T04:30:31.151396",
     "exception": false,
     "start_time": "2024-07-03T04:30:31.143398",
     "status": "completed"
    },
    "tags": []
   },
   "source": [
    "### 5.推理与提交。\n",
    "\n",
    "#### 测试数据的处理和训练数据一样,对预测结果求均值也很常规,它这里主要有2点是常规代码里没有的。\n",
    "\n",
    "- rank():这个rank/len(test)不会改变数据的大小顺序,因为本来就是按照大小来rank的,这里的目的是为了将预测的概率归一化到0到1之间,那么之前是什么操作让预测的概率脱离了0到1的范围呢?就是logit。logit(0.9999)=9.21,logit(0.0001)为-9.21,所以rank这个操作是为logit服务的,那么为什么要用logit呢?\n",
    "\n",
    "- logit():仔细观察logit函数就会发现它是一个单调递增的函数,同时以0.5呈现中心对称。我觉得可能和logit的斜率有关,y=x的斜率是固定的。logit函数在概率靠近0.5的时候平一点,因为模型对这个样本没有把握,logit在概率为0.9和0.1的时候斜率很大,是因为此时模型很自信,如果是y=x,概率0.9和概率0.8时模型增加的自信是0.1,实际上模型自信的时候就应该把这种自信从数值上放大,表现更加明显。"
   ]
  },
  {
   "cell_type": "code",
   "execution_count": 9,
   "id": "46e54974",
   "metadata": {
    "execution": {
     "iopub.execute_input": "2024-07-03T04:30:31.169682Z",
     "iopub.status.busy": "2024-07-03T04:30:31.169252Z",
     "iopub.status.idle": "2024-07-03T05:08:09.109118Z",
     "shell.execute_reply": "2024-07-03T05:08:09.107438Z"
    },
    "papermill": {
     "duration": 2257.966661,
     "end_time": "2024-07-03T05:08:09.126421",
     "exception": false,
     "start_time": "2024-07-03T04:30:31.159760",
     "status": "completed"
    },
    "tags": []
   },
   "outputs": [
    {
     "data": {
      "text/html": [
       "<div>\n",
       "<style scoped>\n",
       "    .dataframe tbody tr th:only-of-type {\n",
       "        vertical-align: middle;\n",
       "    }\n",
       "\n",
       "    .dataframe tbody tr th {\n",
       "        vertical-align: top;\n",
       "    }\n",
       "\n",
       "    .dataframe thead th {\n",
       "        text-align: right;\n",
       "    }\n",
       "</style>\n",
       "<table border=\"1\" class=\"dataframe\">\n",
       "  <thead>\n",
       "    <tr style=\"text-align: right;\">\n",
       "      <th></th>\n",
       "      <th>ID_code</th>\n",
       "      <th>target</th>\n",
       "    </tr>\n",
       "  </thead>\n",
       "  <tbody>\n",
       "    <tr>\n",
       "      <th>0</th>\n",
       "      <td>test_0</td>\n",
       "      <td>0.789345</td>\n",
       "    </tr>\n",
       "    <tr>\n",
       "      <th>1</th>\n",
       "      <td>test_1</td>\n",
       "      <td>0.869480</td>\n",
       "    </tr>\n",
       "    <tr>\n",
       "      <th>2</th>\n",
       "      <td>test_2</td>\n",
       "      <td>0.873440</td>\n",
       "    </tr>\n",
       "    <tr>\n",
       "      <th>3</th>\n",
       "      <td>test_3</td>\n",
       "      <td>0.859170</td>\n",
       "    </tr>\n",
       "    <tr>\n",
       "      <th>4</th>\n",
       "      <td>test_4</td>\n",
       "      <td>0.753845</td>\n",
       "    </tr>\n",
       "  </tbody>\n",
       "</table>\n",
       "</div>"
      ],
      "text/plain": [
       "  ID_code    target\n",
       "0  test_0  0.789345\n",
       "1  test_1  0.869480\n",
       "2  test_2  0.873440\n",
       "3  test_3  0.859170\n",
       "4  test_4  0.753845"
      ]
     },
     "execution_count": 9,
     "metadata": {},
     "output_type": "execute_result"
    }
   ],
   "source": [
    "#单调递增\n",
    "def logit(p):\n",
    "    return np.log(p) - np.log(1 - p)\n",
    "ypred = np.zeros( (200000,200) )\n",
    "for idx,var in enumerate(features):\n",
    "    #构造测试数据\n",
    "    tmp = var_to_feat(test_df[var], var_stats[var], int(var[4:]) )\n",
    "    tmp[:,0] = (tmp[:,0]-var_mean[var])/var_var[var]\n",
    "    for model_id in range(len(MODELS)):\n",
    "        model = MODELS[model_id]\n",
    "        ypred[:,idx] += model.predict_proba( tmp )[:,1] /len(MODELS)\n",
    "ypred = np.mean( logit(ypred), axis=1 )\n",
    "\n",
    "submission = test_df[['ID_code']]\n",
    "submission['target'] = ypred\n",
    "submission['target'] = submission['target'].rank() / len(test_df)\n",
    "submission.to_csv('golden_submission.csv', index=False)\n",
    "submission.head()"
   ]
  },
  {
   "cell_type": "markdown",
   "id": "4dc3c0ff",
   "metadata": {
    "papermill": {
     "duration": 0.00851,
     "end_time": "2024-07-03T05:08:09.143703",
     "exception": false,
     "start_time": "2024-07-03T05:08:09.135193",
     "status": "completed"
    },
    "tags": []
   },
   "source": [
    "### 6.作图\n",
    "\n",
    "#### 这里作了logit函数的图像,简单看看。"
   ]
  },
  {
   "cell_type": "code",
   "execution_count": 10,
   "id": "65a64b6e",
   "metadata": {
    "execution": {
     "iopub.execute_input": "2024-07-03T05:08:09.163867Z",
     "iopub.status.busy": "2024-07-03T05:08:09.163419Z",
     "iopub.status.idle": "2024-07-03T05:08:09.411425Z",
     "shell.execute_reply": "2024-07-03T05:08:09.410250Z"
    },
    "papermill": {
     "duration": 0.261713,
     "end_time": "2024-07-03T05:08:09.414232",
     "exception": false,
     "start_time": "2024-07-03T05:08:09.152519",
     "status": "completed"
    },
    "tags": []
   },
   "outputs": [
    {
     "data": {
      "image/png": "[encoded data removed]",
      "text/plain": [
       "<Figure size 640x480 with 1 Axes>"
      ]
     },
     "metadata": {},
     "output_type": "display_data"
    }
   ],
   "source": [
    "import matplotlib.pyplot as plt#强大的绘图库\n",
    "X=[i/1000 for i in range(1,1000)]\n",
    "y=np.array([logit(X[i]) for i in range(len(X))])\n",
    "plt.plot(X,X)\n",
    "plt.plot(X,y)\n",
    "plt.show()"
   ]
  }
 ],
 "metadata": {
  "kaggle": {
   "accelerator": "none",
   "dataSources": [
    {
     "databundleVersionId": 298493,
     "sourceId": 10385,
     "sourceType": "competition"
    }
   ],
   "dockerImageVersionId": 30732,
   "isGpuEnabled": false,
   "isInternetEnabled": true,
   "language": "python",
   "sourceType": "notebook"
  },
  "kernelspec": {
   "display_name": "Python 3",
   "language": "python",
   "name": "python3"
  },
  "language_info": {
   "codemirror_mode": {
    "name": "ipython",
    "version": 3
   },
   "file_extension": ".py",
   "mimetype": "text/x-python",
   "name": "python",
   "nbconvert_exporter": "python",
   "pygments_lexer": "ipython3",
   "version": "3.10.13"
  },
  "papermill": {
   "default_parameters": {},
   "duration": 8897.809276,
   "end_time": "2024-07-03T05:08:10.471957",
   "environment_variables": {},
   "exception": null,
   "input_path": "__notebook__.ipynb",
   "output_path": "__notebook__.ipynb",
   "parameters": {},
   "start_time": "2024-07-03T02:39:52.662681",
   "version": "2.5.0"
  }
 },
 "nbformat": 4,
 "nbformat_minor": 5
}
