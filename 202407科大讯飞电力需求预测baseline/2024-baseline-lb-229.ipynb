{
 "cells": [
  {
   "cell_type": "markdown",
   "id": "a160a377",
   "metadata": {
    "papermill": {
     "duration": 0.006166,
     "end_time": "2024-07-07T08:20:56.903590",
     "exception": false,
     "start_time": "2024-07-07T08:20:56.897424",
     "status": "completed"
    },
    "tags": []
   },
   "source": [
    "## Created by <a href=\"https://github.com/yunsuxiaozi\">yunsuxiaozi</a> 2024/07/07\n",
    "\n",
    "#### 这是2024科大讯飞电力需求预测挑战赛的baseline。你可以在<a href=\"https://github.com/yunsuxiaozi/AI-and-competition\">AI and competition</a>里获取更多比赛的baseline。本次比赛官网如下:<a href=\"https://challenge.xfyun.cn/topic/info?type=electricity-demand&option=phb&ch=vWxQGFU\">电力需求预测挑战赛</a>。目前该baseline在比赛中相对靠前。"
   ]
  },
  {
   "cell_type": "markdown",
   "id": "91fb2797",
   "metadata": {
    "papermill": {
     "duration": 0.00533,
     "end_time": "2024-07-07T08:20:56.914737",
     "exception": false,
     "start_time": "2024-07-07T08:20:56.909407",
     "status": "completed"
    },
    "tags": []
   },
   "source": [
    "### 1.导入必要的python库。"
   ]
  },
  {
   "cell_type": "code",
   "execution_count": 1,
   "id": "13039bc6",
   "metadata": {
    "execution": {
     "iopub.execute_input": "2024-07-07T08:20:56.928066Z",
     "iopub.status.busy": "2024-07-07T08:20:56.927240Z",
     "iopub.status.idle": "2024-07-07T08:21:02.033132Z",
     "shell.execute_reply": "2024-07-07T08:21:02.032392Z"
    },
    "papermill": {
     "duration": 5.115145,
     "end_time": "2024-07-07T08:21:02.035510",
     "exception": false,
     "start_time": "2024-07-07T08:20:56.920365",
     "status": "completed"
    },
    "tags": []
   },
   "outputs": [],
   "source": [
    "import pandas as pd#导入csv文件的库\n",
    "import numpy as np#矩阵运算与科学计算的库\n",
    "#model lgb回归模型,日志评估\n",
    "from  lightgbm import LGBMRegressor,log_evaluation\n",
    "#KFold是直接分成k折,StratifiedKFold还要考虑每种类别的占比\n",
    "from sklearn.model_selection import KFold\n",
    "import gc#垃圾回收模块\n",
    "import warnings#避免一些可以忽略的报错\n",
    "warnings.filterwarnings('ignore')#filterwarnings()方法是用于设置警告过滤器的方法，它可以控制警告信息的输出方式和级别。"
   ]
  },
  {
   "cell_type": "markdown",
   "id": "ad5c63e7",
   "metadata": {
    "papermill": {
     "duration": 0.005851,
     "end_time": "2024-07-07T08:21:02.047490",
     "exception": false,
     "start_time": "2024-07-07T08:21:02.041639",
     "status": "completed"
    },
    "tags": []
   },
   "source": [
    "### 2.设置随机种子,保证模型可以复现。"
   ]
  },
  {
   "cell_type": "code",
   "execution_count": 2,
   "id": "84e81789",
   "metadata": {
    "execution": {
     "iopub.execute_input": "2024-07-07T08:21:02.060281Z",
     "iopub.status.busy": "2024-07-07T08:21:02.059744Z",
     "iopub.status.idle": "2024-07-07T08:21:02.065048Z",
     "shell.execute_reply": "2024-07-07T08:21:02.064267Z"
    },
    "papermill": {
     "duration": 0.013721,
     "end_time": "2024-07-07T08:21:02.066841",
     "exception": false,
     "start_time": "2024-07-07T08:21:02.053120",
     "status": "completed"
    },
    "tags": []
   },
   "outputs": [],
   "source": [
    "#config\n",
    "class Config():\n",
    "    seed=2024#随机种子\n",
    "    num_folds=10#K折交叉验证\n",
    "    TARGET_NAME ='target'#标签\n",
    "import random#提供了一些用于生成随机数的函数\n",
    "#设置随机种子,保证模型可以复现\n",
    "def seed_everything(seed):\n",
    "    np.random.seed(seed)#numpy的随机种子\n",
    "    random.seed(seed)#python内置的随机种子\n",
    "seed_everything(Config.seed)"
   ]
  },
  {
   "cell_type": "markdown",
   "id": "f3c4da57",
   "metadata": {
    "papermill": {
     "duration": 0.005419,
     "end_time": "2024-07-07T08:21:02.077917",
     "exception": false,
     "start_time": "2024-07-07T08:21:02.072498",
     "status": "completed"
    },
    "tags": []
   },
   "source": [
    "### 3.读取数据集。"
   ]
  },
  {
   "cell_type": "code",
   "execution_count": 3,
   "id": "3ba8e810",
   "metadata": {
    "execution": {
     "iopub.execute_input": "2024-07-07T08:21:02.090592Z",
     "iopub.status.busy": "2024-07-07T08:21:02.090313Z",
     "iopub.status.idle": "2024-07-07T08:21:03.909922Z",
     "shell.execute_reply": "2024-07-07T08:21:03.909066Z"
    },
    "papermill": {
     "duration": 1.828387,
     "end_time": "2024-07-07T08:21:03.911877",
     "exception": false,
     "start_time": "2024-07-07T08:21:02.083490",
     "status": "completed"
    },
    "tags": []
   },
   "outputs": [
    {
     "data": {
      "text/html": [
       "<div>\n",
       "<style scoped>\n",
       "    .dataframe tbody tr th:only-of-type {\n",
       "        vertical-align: middle;\n",
       "    }\n",
       "\n",
       "    .dataframe tbody tr th {\n",
       "        vertical-align: top;\n",
       "    }\n",
       "\n",
       "    .dataframe thead th {\n",
       "        text-align: right;\n",
       "    }\n",
       "</style>\n",
       "<table border=\"1\" class=\"dataframe\">\n",
       "  <thead>\n",
       "    <tr style=\"text-align: right;\">\n",
       "      <th></th>\n",
       "      <th>id</th>\n",
       "      <th>dt</th>\n",
       "      <th>type</th>\n",
       "      <th>target</th>\n",
       "    </tr>\n",
       "  </thead>\n",
       "  <tbody>\n",
       "    <tr>\n",
       "      <th>0</th>\n",
       "      <td>00037f39cf</td>\n",
       "      <td>11</td>\n",
       "      <td>2</td>\n",
       "      <td>44.050</td>\n",
       "    </tr>\n",
       "    <tr>\n",
       "      <th>1</th>\n",
       "      <td>00037f39cf</td>\n",
       "      <td>12</td>\n",
       "      <td>2</td>\n",
       "      <td>50.672</td>\n",
       "    </tr>\n",
       "    <tr>\n",
       "      <th>2</th>\n",
       "      <td>00037f39cf</td>\n",
       "      <td>13</td>\n",
       "      <td>2</td>\n",
       "      <td>39.042</td>\n",
       "    </tr>\n",
       "    <tr>\n",
       "      <th>3</th>\n",
       "      <td>00037f39cf</td>\n",
       "      <td>14</td>\n",
       "      <td>2</td>\n",
       "      <td>35.900</td>\n",
       "    </tr>\n",
       "    <tr>\n",
       "      <th>4</th>\n",
       "      <td>00037f39cf</td>\n",
       "      <td>15</td>\n",
       "      <td>2</td>\n",
       "      <td>53.888</td>\n",
       "    </tr>\n",
       "  </tbody>\n",
       "</table>\n",
       "</div>"
      ],
      "text/plain": [
       "           id  dt  type  target\n",
       "0  00037f39cf  11     2  44.050\n",
       "1  00037f39cf  12     2  50.672\n",
       "2  00037f39cf  13     2  39.042\n",
       "3  00037f39cf  14     2  35.900\n",
       "4  00037f39cf  15     2  53.888"
      ]
     },
     "execution_count": 3,
     "metadata": {},
     "output_type": "execute_result"
    }
   ],
   "source": [
    "path='/kaggle/input/kedapower/2407keda/'\n",
    "train=pd.read_csv(path+\"train.csv\")\n",
    "test=pd.read_csv(path+\"test.csv\")\n",
    "train.head()"
   ]
  },
  {
   "cell_type": "code",
   "execution_count": 4,
   "id": "34b3658b",
   "metadata": {
    "execution": {
     "iopub.execute_input": "2024-07-07T08:21:03.925145Z",
     "iopub.status.busy": "2024-07-07T08:21:03.924874Z",
     "iopub.status.idle": "2024-07-07T08:21:04.273175Z",
     "shell.execute_reply": "2024-07-07T08:21:04.272242Z"
    },
    "papermill": {
     "duration": 0.357375,
     "end_time": "2024-07-07T08:21:04.275438",
     "exception": false,
     "start_time": "2024-07-07T08:21:03.918063",
     "status": "completed"
    },
    "tags": []
   },
   "outputs": [
    {
     "data": {
      "text/plain": [
       "id\n",
       "fff81139a7    496\n",
       "00037f39cf    496\n",
       "00039a1517    496\n",
       "000c15d0ea    496\n",
       "00150bc11a    496\n",
       "             ... \n",
       "8a159f78a4    124\n",
       "9eadf697db     88\n",
       "672947e348     83\n",
       "fb420d1701     69\n",
       "50f33355a7     19\n",
       "Name: count, Length: 5832, dtype: int64"
      ]
     },
     "execution_count": 4,
     "metadata": {},
     "output_type": "execute_result"
    }
   ],
   "source": [
    "train['id'].value_counts()"
   ]
  },
  {
   "cell_type": "code",
   "execution_count": 5,
   "id": "7b3d6161",
   "metadata": {
    "execution": {
     "iopub.execute_input": "2024-07-07T08:21:04.290260Z",
     "iopub.status.busy": "2024-07-07T08:21:04.289759Z",
     "iopub.status.idle": "2024-07-07T08:21:04.409109Z",
     "shell.execute_reply": "2024-07-07T08:21:04.408251Z"
    },
    "papermill": {
     "duration": 0.128721,
     "end_time": "2024-07-07T08:21:04.411120",
     "exception": false,
     "start_time": "2024-07-07T08:21:04.282399",
     "status": "completed"
    },
    "tags": []
   },
   "outputs": [
    {
     "data": {
      "text/plain": [
       "count    2.877305e+06\n",
       "mean     3.221786e+01\n",
       "std      5.035682e+01\n",
       "min     -6.130000e-01\n",
       "25%      1.331600e+01\n",
       "50%      2.235000e+01\n",
       "75%      3.443900e+01\n",
       "max      1.191678e+03\n",
       "Name: target, dtype: float64"
      ]
     },
     "execution_count": 5,
     "metadata": {},
     "output_type": "execute_result"
    }
   ],
   "source": [
    "train['target'].describe()"
   ]
  },
  {
   "cell_type": "markdown",
   "id": "521b4fed",
   "metadata": {
    "papermill": {
     "duration": 0.007422,
     "end_time": "2024-07-07T08:21:04.425340",
     "exception": false,
     "start_time": "2024-07-07T08:21:04.417918",
     "status": "completed"
    },
    "tags": []
   },
   "source": [
    "### 4.特征工程。\n",
    "\n",
    "#### 先对数据集拼接,根据id和dt排序,根据id排序是因为同一个id是同一个房屋,dt要降序排列是因为dt是距离当前多少天。"
   ]
  },
  {
   "cell_type": "code",
   "execution_count": 6,
   "id": "3c0f07c0",
   "metadata": {
    "execution": {
     "iopub.execute_input": "2024-07-07T08:21:04.439217Z",
     "iopub.status.busy": "2024-07-07T08:21:04.438909Z",
     "iopub.status.idle": "2024-07-07T08:21:05.159119Z",
     "shell.execute_reply": "2024-07-07T08:21:05.158072Z"
    },
    "papermill": {
     "duration": 0.730151,
     "end_time": "2024-07-07T08:21:05.161863",
     "exception": false,
     "start_time": "2024-07-07T08:21:04.431712",
     "status": "completed"
    },
    "tags": []
   },
   "outputs": [
    {
     "name": "stdout",
     "output_type": "stream",
     "text": [
      "len(total):2935625\n"
     ]
    },
    {
     "data": {
      "text/html": [
       "<div>\n",
       "<style scoped>\n",
       "    .dataframe tbody tr th:only-of-type {\n",
       "        vertical-align: middle;\n",
       "    }\n",
       "\n",
       "    .dataframe tbody tr th {\n",
       "        vertical-align: top;\n",
       "    }\n",
       "\n",
       "    .dataframe thead th {\n",
       "        text-align: right;\n",
       "    }\n",
       "</style>\n",
       "<table border=\"1\" class=\"dataframe\">\n",
       "  <thead>\n",
       "    <tr style=\"text-align: right;\">\n",
       "      <th></th>\n",
       "      <th>id</th>\n",
       "      <th>dt</th>\n",
       "      <th>type</th>\n",
       "      <th>target</th>\n",
       "    </tr>\n",
       "  </thead>\n",
       "  <tbody>\n",
       "    <tr>\n",
       "      <th>495</th>\n",
       "      <td>00037f39cf</td>\n",
       "      <td>506</td>\n",
       "      <td>2</td>\n",
       "      <td>33.141</td>\n",
       "    </tr>\n",
       "    <tr>\n",
       "      <th>494</th>\n",
       "      <td>00037f39cf</td>\n",
       "      <td>505</td>\n",
       "      <td>2</td>\n",
       "      <td>33.523</td>\n",
       "    </tr>\n",
       "    <tr>\n",
       "      <th>493</th>\n",
       "      <td>00037f39cf</td>\n",
       "      <td>504</td>\n",
       "      <td>2</td>\n",
       "      <td>29.933</td>\n",
       "    </tr>\n",
       "    <tr>\n",
       "      <th>492</th>\n",
       "      <td>00037f39cf</td>\n",
       "      <td>503</td>\n",
       "      <td>2</td>\n",
       "      <td>32.045</td>\n",
       "    </tr>\n",
       "    <tr>\n",
       "      <th>491</th>\n",
       "      <td>00037f39cf</td>\n",
       "      <td>502</td>\n",
       "      <td>2</td>\n",
       "      <td>40.008</td>\n",
       "    </tr>\n",
       "  </tbody>\n",
       "</table>\n",
       "</div>"
      ],
      "text/plain": [
       "             id   dt  type  target\n",
       "495  00037f39cf  506     2  33.141\n",
       "494  00037f39cf  505     2  33.523\n",
       "493  00037f39cf  504     2  29.933\n",
       "492  00037f39cf  503     2  32.045\n",
       "491  00037f39cf  502     2  40.008"
      ]
     },
     "execution_count": 6,
     "metadata": {},
     "output_type": "execute_result"
    }
   ],
   "source": [
    "total=pd.concat((train,test),axis=0)\n",
    "#id从小到大,dt从大到小,因为dt是距离现在多少天.\n",
    "total=total.sort_values(['id','dt'],ascending=[True,False])\n",
    "print(f\"len(total):{len(total)}\")\n",
    "total.head()"
   ]
  },
  {
   "cell_type": "markdown",
   "id": "2a17004b",
   "metadata": {
    "papermill": {
     "duration": 0.006517,
     "end_time": "2024-07-07T08:21:05.175994",
     "exception": false,
     "start_time": "2024-07-07T08:21:05.169477",
     "status": "completed"
    },
    "tags": []
   },
   "source": [
    "#### Type:由于type是每个房屋的类型,这里做个简单的onehot."
   ]
  },
  {
   "cell_type": "code",
   "execution_count": 7,
   "id": "430cc8fa",
   "metadata": {
    "execution": {
     "iopub.execute_input": "2024-07-07T08:21:05.190673Z",
     "iopub.status.busy": "2024-07-07T08:21:05.190117Z",
     "iopub.status.idle": "2024-07-07T08:21:05.270353Z",
     "shell.execute_reply": "2024-07-07T08:21:05.269247Z"
    },
    "papermill": {
     "duration": 0.08974,
     "end_time": "2024-07-07T08:21:05.272403",
     "exception": false,
     "start_time": "2024-07-07T08:21:05.182663",
     "status": "completed"
    },
    "tags": []
   },
   "outputs": [
    {
     "name": "stdout",
     "output_type": "stream",
     "text": [
      "type feature\n"
     ]
    }
   ],
   "source": [
    "print(\"type feature\")\n",
    "user_type=total['type'].unique()\n",
    "for t in user_type:\n",
    "    total[f'type_{t}']=(total['type']==t)"
   ]
  },
  {
   "cell_type": "markdown",
   "id": "06bcd51e",
   "metadata": {
    "papermill": {
     "duration": 0.006809,
     "end_time": "2024-07-07T08:21:05.286709",
     "exception": false,
     "start_time": "2024-07-07T08:21:05.279900",
     "status": "completed"
    },
    "tags": []
   },
   "source": [
    "### dt:虽然dt是脱敏处理后的天数,但这里还是按照常规的day来处理。7是一周,30是一个月,90是一个季度,180是半年,365是一年,由于这些特征是人类通常表示时间的周期,用sin和cos提取特征。之后提取了差分特征,并提取了常规的dayofweek,month,year特征。"
   ]
  },
  {
   "cell_type": "code",
   "execution_count": 8,
   "id": "b7dfb644",
   "metadata": {
    "execution": {
     "iopub.execute_input": "2024-07-07T08:21:05.301624Z",
     "iopub.status.busy": "2024-07-07T08:21:05.301310Z",
     "iopub.status.idle": "2024-07-07T08:21:54.895983Z",
     "shell.execute_reply": "2024-07-07T08:21:54.894994Z"
    },
    "papermill": {
     "duration": 49.604901,
     "end_time": "2024-07-07T08:21:54.898424",
     "exception": false,
     "start_time": "2024-07-07T08:21:05.293523",
     "status": "completed"
    },
    "tags": []
   },
   "outputs": [
    {
     "name": "stdout",
     "output_type": "stream",
     "text": [
      "dt feature\n"
     ]
    }
   ],
   "source": [
    "print(\"dt feature\")  \n",
    "for day in [7,30,90,180,365]:\n",
    "    total[f'sin_dt_{day}']=np.sin(2*np.pi*total['dt']/day)\n",
    "    total[f'cos_dt_{day}']=np.cos(2*np.pi*total['dt']/day)\n",
    "for gap in [2,4,7,15,30,60]:\n",
    "    for col in ['sin_dt_7','cos_dt_7','sin_dt_30','cos_dt_30','sin_dt_90','cos_dt_90','sin_dt_180','cos_dt_180','sin_dt_365','cos_dt_365']:\n",
    "        total[f\"{col}_shift{gap}\"]=total.groupby(total['id'])[col].shift(gap)\n",
    "        total[f\"{col}_gap{gap}\"]=total[col]-total[f\"{col}_shift{gap}\"]\n",
    "        total.drop([f\"{col}_shift{gap}\"],axis=1,inplace=True)\n",
    "total['dt_dayofweek']=total['dt']%7\n",
    "for d in range(7):\n",
    "    total[f'dt_dayofweek_{d}']=(total['dt_dayofweek']==d)  \n",
    "total['dt_month']=total['dt']//30%12\n",
    "for d in range(12):\n",
    "    total[f'dt_month_{d}']=(total['dt_month']==d)\n",
    "total['dt_year']=total['dt']//365"
   ]
  },
  {
   "cell_type": "markdown",
   "id": "686c230d",
   "metadata": {
    "papermill": {
     "duration": 0.006784,
     "end_time": "2024-07-07T08:21:54.912638",
     "exception": false,
     "start_time": "2024-07-07T08:21:54.905854",
     "status": "completed"
    },
    "tags": []
   },
   "source": [
    "#### target:对于target特征的提取有很多,也比较暴力,基本都是groupby的统计特征,自己看吧。"
   ]
  },
  {
   "cell_type": "code",
   "execution_count": 9,
   "id": "0e44f423",
   "metadata": {
    "execution": {
     "iopub.execute_input": "2024-07-07T08:21:54.927847Z",
     "iopub.status.busy": "2024-07-07T08:21:54.927284Z",
     "iopub.status.idle": "2024-07-07T08:22:31.726143Z",
     "shell.execute_reply": "2024-07-07T08:22:31.725394Z"
    },
    "papermill": {
     "duration": 36.808989,
     "end_time": "2024-07-07T08:22:31.728482",
     "exception": false,
     "start_time": "2024-07-07T08:21:54.919493",
     "status": "completed"
    },
    "tags": []
   },
   "outputs": [
    {
     "name": "stdout",
     "output_type": "stream",
     "text": [
      "target feature\n",
      "col:['id']\n",
      "col:['type']\n",
      "col:['dt_dayofweek']\n",
      "col:['dt_month']\n",
      "col:['id', 'type']\n",
      "col:['id', 'dt_dayofweek']\n",
      "col:['id', 'dt_month']\n",
      "col:['type', 'dt_dayofweek']\n",
      "col:['type', 'dt_month']\n"
     ]
    }
   ],
   "source": [
    "print(\"target feature\")\n",
    "for gap in [10,13,20]:\n",
    "    for col in ['target']:\n",
    "        total[f\"{col}_shift{gap}\"]=total.groupby(total['id'])[col].shift(gap)    \n",
    "        for w in [3,6,10]:\n",
    "            total[f\"{col}_gap{gap}_window{w}\"]=total.groupby(total['id'])[col].transform(lambda x: x.rolling(w).mean()).shift(gap)\n",
    "\n",
    "for col in [['id'],['type'],['dt_dayofweek'],['dt_month'],\n",
    "            ['id','type'],['id','dt_dayofweek'],['id','dt_month'],\n",
    "            ['type','dt_dayofweek'],['type','dt_month']\n",
    "           ]:\n",
    "    print(f\"col:{col}\")\n",
    "    if len(col)>1:\n",
    "        colname='_'.join(col)\n",
    "    else:\n",
    "        colname=col[0]\n",
    "    total[f\"{colname}_target_min\"]=total.groupby(col)['target'].transform('min')\n",
    "    total[f\"{colname}_target_max\"]=total.groupby(col)['target'].transform('max')\n",
    "    total[f\"{colname}_target_mean\"]=total.groupby(col)['target'].transform('mean')\n",
    "    total[f\"{colname}_target_median\"]=total.groupby(col)['target'].transform('median')\n",
    "    total[f\"{colname}_target_std\"]=total.groupby(col)['target'].transform('std')\n",
    "    total[f\"{colname}_target_skew\"]=total.groupby(col)['target'].transform('skew')\n",
    "    total[f\"{colname}_target_last\"]=total.groupby(col)['target'].transform('last')\n",
    "    total[f\"{colname}_target_first\"]=total.groupby(col)['target'].transform('first')\n",
    "    total[f\"{colname}_target_nunique\"]=total.groupby(col)['target'].transform('nunique')\n",
    "    \n",
    "    total[f\"{colname}_target_ptp\"]=total[f\"{colname}_target_max\"]-total[f\"{colname}_target_min\"]\n",
    "    total[f\"{colname}_target_max/min\"]=total[f\"{colname}_target_max\"]/(total[f\"{colname}_target_min\"]+1e-15)\n",
    "    total[f\"{colname}_target_mean/std\"]=total[f\"{colname}_target_mean\"]/(total[f\"{colname}_target_std\"]+1e-15)"
   ]
  },
  {
   "cell_type": "markdown",
   "id": "891857e5",
   "metadata": {
    "papermill": {
     "duration": 0.00755,
     "end_time": "2024-07-07T08:22:31.744105",
     "exception": false,
     "start_time": "2024-07-07T08:22:31.736555",
     "status": "completed"
    },
    "tags": []
   },
   "source": [
    "#### 这里也根据模型的特征重要性筛选了一些特征,特征重要性小于10就drop。这里选择dt<=500的训练数据进行训练是因为一方面shift特征的构造中会有一些缺失值,另一方面时间上距离0太远的数据可能也没什么用。"
   ]
  },
  {
   "cell_type": "code",
   "execution_count": 10,
   "id": "bc5301ad",
   "metadata": {
    "execution": {
     "iopub.execute_input": "2024-07-07T08:22:31.760710Z",
     "iopub.status.busy": "2024-07-07T08:22:31.760421Z",
     "iopub.status.idle": "2024-07-07T08:22:40.215060Z",
     "shell.execute_reply": "2024-07-07T08:22:40.214109Z"
    },
    "papermill": {
     "duration": 8.465793,
     "end_time": "2024-07-07T08:22:40.217519",
     "exception": false,
     "start_time": "2024-07-07T08:22:31.751726",
     "status": "completed"
    },
    "tags": []
   },
   "outputs": [
    {
     "name": "stdout",
     "output_type": "stream",
     "text": [
      "features_count:223\n"
     ]
    },
    {
     "data": {
      "text/html": [
       "<div>\n",
       "<style scoped>\n",
       "    .dataframe tbody tr th:only-of-type {\n",
       "        vertical-align: middle;\n",
       "    }\n",
       "\n",
       "    .dataframe tbody tr th {\n",
       "        vertical-align: top;\n",
       "    }\n",
       "\n",
       "    .dataframe thead th {\n",
       "        text-align: right;\n",
       "    }\n",
       "</style>\n",
       "<table border=\"1\" class=\"dataframe\">\n",
       "  <thead>\n",
       "    <tr style=\"text-align: right;\">\n",
       "      <th></th>\n",
       "      <th>id</th>\n",
       "      <th>dt</th>\n",
       "      <th>type</th>\n",
       "      <th>target</th>\n",
       "      <th>type_2</th>\n",
       "      <th>type_4</th>\n",
       "      <th>type_3</th>\n",
       "      <th>type_8</th>\n",
       "      <th>type_13</th>\n",
       "      <th>type_7</th>\n",
       "      <th>...</th>\n",
       "      <th>type_dt_month_target_mean</th>\n",
       "      <th>type_dt_month_target_median</th>\n",
       "      <th>type_dt_month_target_std</th>\n",
       "      <th>type_dt_month_target_skew</th>\n",
       "      <th>type_dt_month_target_last</th>\n",
       "      <th>type_dt_month_target_first</th>\n",
       "      <th>type_dt_month_target_nunique</th>\n",
       "      <th>type_dt_month_target_ptp</th>\n",
       "      <th>type_dt_month_target_max/min</th>\n",
       "      <th>type_dt_month_target_mean/std</th>\n",
       "    </tr>\n",
       "  </thead>\n",
       "  <tbody>\n",
       "    <tr>\n",
       "      <th>489</th>\n",
       "      <td>00037f39cf</td>\n",
       "      <td>500</td>\n",
       "      <td>2</td>\n",
       "      <td>36.262</td>\n",
       "      <td>True</td>\n",
       "      <td>False</td>\n",
       "      <td>False</td>\n",
       "      <td>False</td>\n",
       "      <td>False</td>\n",
       "      <td>False</td>\n",
       "      <td>...</td>\n",
       "      <td>27.937425</td>\n",
       "      <td>27.122</td>\n",
       "      <td>12.541604</td>\n",
       "      <td>0.592792</td>\n",
       "      <td>13.417</td>\n",
       "      <td>33.141</td>\n",
       "      <td>35556</td>\n",
       "      <td>111.919</td>\n",
       "      <td>-221.061508</td>\n",
       "      <td>2.22758</td>\n",
       "    </tr>\n",
       "    <tr>\n",
       "      <th>488</th>\n",
       "      <td>00037f39cf</td>\n",
       "      <td>499</td>\n",
       "      <td>2</td>\n",
       "      <td>20.788</td>\n",
       "      <td>True</td>\n",
       "      <td>False</td>\n",
       "      <td>False</td>\n",
       "      <td>False</td>\n",
       "      <td>False</td>\n",
       "      <td>False</td>\n",
       "      <td>...</td>\n",
       "      <td>27.937425</td>\n",
       "      <td>27.122</td>\n",
       "      <td>12.541604</td>\n",
       "      <td>0.592792</td>\n",
       "      <td>13.417</td>\n",
       "      <td>33.141</td>\n",
       "      <td>35556</td>\n",
       "      <td>111.919</td>\n",
       "      <td>-221.061508</td>\n",
       "      <td>2.22758</td>\n",
       "    </tr>\n",
       "    <tr>\n",
       "      <th>487</th>\n",
       "      <td>00037f39cf</td>\n",
       "      <td>498</td>\n",
       "      <td>2</td>\n",
       "      <td>20.839</td>\n",
       "      <td>True</td>\n",
       "      <td>False</td>\n",
       "      <td>False</td>\n",
       "      <td>False</td>\n",
       "      <td>False</td>\n",
       "      <td>False</td>\n",
       "      <td>...</td>\n",
       "      <td>27.937425</td>\n",
       "      <td>27.122</td>\n",
       "      <td>12.541604</td>\n",
       "      <td>0.592792</td>\n",
       "      <td>13.417</td>\n",
       "      <td>33.141</td>\n",
       "      <td>35556</td>\n",
       "      <td>111.919</td>\n",
       "      <td>-221.061508</td>\n",
       "      <td>2.22758</td>\n",
       "    </tr>\n",
       "    <tr>\n",
       "      <th>486</th>\n",
       "      <td>00037f39cf</td>\n",
       "      <td>497</td>\n",
       "      <td>2</td>\n",
       "      <td>37.550</td>\n",
       "      <td>True</td>\n",
       "      <td>False</td>\n",
       "      <td>False</td>\n",
       "      <td>False</td>\n",
       "      <td>False</td>\n",
       "      <td>False</td>\n",
       "      <td>...</td>\n",
       "      <td>27.937425</td>\n",
       "      <td>27.122</td>\n",
       "      <td>12.541604</td>\n",
       "      <td>0.592792</td>\n",
       "      <td>13.417</td>\n",
       "      <td>33.141</td>\n",
       "      <td>35556</td>\n",
       "      <td>111.919</td>\n",
       "      <td>-221.061508</td>\n",
       "      <td>2.22758</td>\n",
       "    </tr>\n",
       "    <tr>\n",
       "      <th>485</th>\n",
       "      <td>00037f39cf</td>\n",
       "      <td>496</td>\n",
       "      <td>2</td>\n",
       "      <td>38.467</td>\n",
       "      <td>True</td>\n",
       "      <td>False</td>\n",
       "      <td>False</td>\n",
       "      <td>False</td>\n",
       "      <td>False</td>\n",
       "      <td>False</td>\n",
       "      <td>...</td>\n",
       "      <td>27.937425</td>\n",
       "      <td>27.122</td>\n",
       "      <td>12.541604</td>\n",
       "      <td>0.592792</td>\n",
       "      <td>13.417</td>\n",
       "      <td>33.141</td>\n",
       "      <td>35556</td>\n",
       "      <td>111.919</td>\n",
       "      <td>-221.061508</td>\n",
       "      <td>2.22758</td>\n",
       "    </tr>\n",
       "  </tbody>\n",
       "</table>\n",
       "<p>5 rows × 223 columns</p>\n",
       "</div>"
      ],
      "text/plain": [
       "             id   dt  type  target  type_2  type_4  type_3  type_8  type_13  \\\n",
       "489  00037f39cf  500     2  36.262    True   False   False   False    False   \n",
       "488  00037f39cf  499     2  20.788    True   False   False   False    False   \n",
       "487  00037f39cf  498     2  20.839    True   False   False   False    False   \n",
       "486  00037f39cf  497     2  37.550    True   False   False   False    False   \n",
       "485  00037f39cf  496     2  38.467    True   False   False   False    False   \n",
       "\n",
       "     type_7  ...  type_dt_month_target_mean  type_dt_month_target_median  \\\n",
       "489   False  ...                  27.937425                       27.122   \n",
       "488   False  ...                  27.937425                       27.122   \n",
       "487   False  ...                  27.937425                       27.122   \n",
       "486   False  ...                  27.937425                       27.122   \n",
       "485   False  ...                  27.937425                       27.122   \n",
       "\n",
       "     type_dt_month_target_std  type_dt_month_target_skew  \\\n",
       "489                 12.541604                   0.592792   \n",
       "488                 12.541604                   0.592792   \n",
       "487                 12.541604                   0.592792   \n",
       "486                 12.541604                   0.592792   \n",
       "485                 12.541604                   0.592792   \n",
       "\n",
       "     type_dt_month_target_last  type_dt_month_target_first  \\\n",
       "489                     13.417                      33.141   \n",
       "488                     13.417                      33.141   \n",
       "487                     13.417                      33.141   \n",
       "486                     13.417                      33.141   \n",
       "485                     13.417                      33.141   \n",
       "\n",
       "     type_dt_month_target_nunique  type_dt_month_target_ptp  \\\n",
       "489                         35556                   111.919   \n",
       "488                         35556                   111.919   \n",
       "487                         35556                   111.919   \n",
       "486                         35556                   111.919   \n",
       "485                         35556                   111.919   \n",
       "\n",
       "     type_dt_month_target_max/min  type_dt_month_target_mean/std  \n",
       "489                   -221.061508                        2.22758  \n",
       "488                   -221.061508                        2.22758  \n",
       "487                   -221.061508                        2.22758  \n",
       "486                   -221.061508                        2.22758  \n",
       "485                   -221.061508                        2.22758  \n",
       "\n",
       "[5 rows x 223 columns]"
      ]
     },
     "execution_count": 10,
     "metadata": {},
     "output_type": "execute_result"
    }
   ],
   "source": [
    "#根据模型的特征重要性筛选的特征\n",
    "useless_cols=['cos_dt_30_gap30', 'cos_dt_30_gap60', 'type_16', 'cos_dt_7_gap7','sin_dt_30_gap30', 'type_5','sin_dt_30_gap60', 'type_0', 'type_1', 'type_10', 'type_11', 'sin_dt_7_gap7']\n",
    "total.drop(useless_cols,axis=1,inplace=True)\n",
    "train=total[~total['target'].isna()]\n",
    "train=train[train['dt']<=500]\n",
    "test=total[total['target'].isna()]\n",
    "del total\n",
    "gc.collect()\n",
    "print(f\"features_count:{len(test.columns)}\")\n",
    "train.head()"
   ]
  },
  {
   "cell_type": "markdown",
   "id": "f52eac00",
   "metadata": {
    "papermill": {
     "duration": 0.008289,
     "end_time": "2024-07-07T08:22:40.234302",
     "exception": false,
     "start_time": "2024-07-07T08:22:40.226013",
     "status": "completed"
    },
    "tags": []
   },
   "source": [
    "### 5.reduce_memory\n",
    "\n",
    "#### 由于本次比赛的数据量有几百万,所以需要对数据进行瘦身处理,防止数据的内存太大。"
   ]
  },
  {
   "cell_type": "code",
   "execution_count": 11,
   "id": "608bf440",
   "metadata": {
    "execution": {
     "iopub.execute_input": "2024-07-07T08:22:40.252617Z",
     "iopub.status.busy": "2024-07-07T08:22:40.251941Z",
     "iopub.status.idle": "2024-07-07T08:22:46.847479Z",
     "shell.execute_reply": "2024-07-07T08:22:46.846322Z"
    },
    "papermill": {
     "duration": 6.606789,
     "end_time": "2024-07-07T08:22:46.849485",
     "exception": false,
     "start_time": "2024-07-07T08:22:40.242696",
     "status": "completed"
    },
    "tags": []
   },
   "outputs": [
    {
     "name": "stdout",
     "output_type": "stream",
     "text": [
      "Memory usage of dataframe is 4253.57 MB\n",
      "Memory usage after optimization is: 1280.41 MB\n",
      "Decreased by 69.9%\n",
      "Memory usage of dataframe is 87.21 MB\n",
      "Memory usage after optimization is: 26.42 MB\n",
      "Decreased by 69.7%\n"
     ]
    }
   ],
   "source": [
    "#遍历表格df的所有列修改数据类型减少内存使用\n",
    "def reduce_mem_usage(df, float16_as32=True):\n",
    "    #memory_usage()是df每列的内存使用量,sum是对它们求和, B->KB->MB\n",
    "    start_mem = df.memory_usage().sum() / 1024**2\n",
    "    print('Memory usage of dataframe is {:.2f} MB'.format(start_mem))\n",
    "    \n",
    "    for col in df.columns:#遍历每列的列名\n",
    "        col_type = df[col].dtype#列名的type\n",
    "        if col_type != object and str(col_type)!='category':#不是object也就是说这里处理的是数值类型的变量\n",
    "            c_min,c_max = df[col].min(),df[col].max() #求出这列的最大值和最小值\n",
    "            if str(col_type)[:3] == 'int':#如果是int类型的变量,不管是int8,int16,int32还是int64\n",
    "                #如果这列的取值范围是在int8的取值范围内,那就对类型进行转换 (-128 到 127)\n",
    "                if c_min > np.iinfo(np.int8).min and c_max < np.iinfo(np.int8).max:\n",
    "                    df[col] = df[col].astype(np.int8)\n",
    "                #如果这列的取值范围是在int16的取值范围内,那就对类型进行转换(-32,768 到 32,767)\n",
    "                elif c_min > np.iinfo(np.int16).min and c_max < np.iinfo(np.int16).max:\n",
    "                    df[col] = df[col].astype(np.int16)\n",
    "                #如果这列的取值范围是在int32的取值范围内,那就对类型进行转换(-2,147,483,648到2,147,483,647)\n",
    "                elif c_min > np.iinfo(np.int32).min and c_max < np.iinfo(np.int32).max:\n",
    "                    df[col] = df[col].astype(np.int32)\n",
    "                #如果这列的取值范围是在int64的取值范围内,那就对类型进行转换(-9,223,372,036,854,775,808到9,223,372,036,854,775,807)\n",
    "                elif c_min > np.iinfo(np.int64).min and c_max < np.iinfo(np.int64).max:\n",
    "                    df[col] = df[col].astype(np.int64)  \n",
    "            else:#如果是浮点数类型.\n",
    "                #如果数值在float16的取值范围内,如果觉得需要更高精度可以考虑float32\n",
    "                if c_min > np.finfo(np.float16).min and c_max < np.finfo(np.float16).max:\n",
    "                    if float16_as32:#如果数据需要更高的精度可以选择float32\n",
    "                        df[col] = df[col].astype(np.float32)\n",
    "                    else:\n",
    "                        df[col] = df[col].astype(np.float16)  \n",
    "                #如果数值在float32的取值范围内，对它进行类型转换\n",
    "                elif c_min > np.finfo(np.float32).min and c_max < np.finfo(np.float32).max:\n",
    "                    df[col] = df[col].astype(np.float32)\n",
    "                #如果数值在float64的取值范围内，对它进行类型转换\n",
    "                else:\n",
    "                    df[col] = df[col].astype(np.float64)\n",
    "    #计算一下结束后的内存\n",
    "    end_mem = df.memory_usage().sum() / 1024**2\n",
    "    print('Memory usage after optimization is: {:.2f} MB'.format(end_mem))\n",
    "    #相比一开始的内存减少了百分之多少\n",
    "    print('Decreased by {:.1f}%'.format(100 * (start_mem - end_mem) / start_mem))\n",
    "    \n",
    "    return df\n",
    "train=reduce_mem_usage(train, float16_as32=False)\n",
    "test=reduce_mem_usage(test, float16_as32=False)"
   ]
  },
  {
   "cell_type": "markdown",
   "id": "83ef042c",
   "metadata": {
    "papermill": {
     "duration": 0.008384,
     "end_time": "2024-07-07T08:22:46.866619",
     "exception": false,
     "start_time": "2024-07-07T08:22:46.858235",
     "status": "completed"
    },
    "tags": []
   },
   "source": [
    "### 6.模型的训练和推理。\n",
    "\n",
    "\n",
    "#### 这里使用的是普通的kfold,这会存在数据泄露的问题,这也就是为什么线下CV看起来很低,但是提交上去却略高的原因。各位可以根据自己的需求换成更合适的kfold。"
   ]
  },
  {
   "cell_type": "code",
   "execution_count": 12,
   "id": "3bff2ef0",
   "metadata": {
    "execution": {
     "iopub.execute_input": "2024-07-07T08:22:46.884735Z",
     "iopub.status.busy": "2024-07-07T08:22:46.884463Z",
     "iopub.status.idle": "2024-07-07T08:42:03.585413Z",
     "shell.execute_reply": "2024-07-07T08:42:03.584491Z"
    },
    "papermill": {
     "duration": 1156.712545,
     "end_time": "2024-07-07T08:42:03.587573",
     "exception": false,
     "start_time": "2024-07-07T08:22:46.875028",
     "status": "completed"
    },
    "tags": []
   },
   "outputs": [
    {
     "name": "stdout",
     "output_type": "stream",
     "text": [
      "name lgb,fold:0\n",
      "[LightGBM] [Info] This is the GPU trainer!!\n",
      "[LightGBM] [Info] Total Bins 24327\n",
      "[LightGBM] [Info] Number of data points in the train set: 2560058, number of used features: 218\n",
      "[LightGBM] [Info] Using GPU Device: Tesla P100-PCIE-16GB, Vendor: NVIDIA Corporation\n",
      "[LightGBM] [Info] Compiling OpenCL Kernel with 256 bins...\n"
     ]
    },
    {
     "name": "stderr",
     "output_type": "stream",
     "text": [
      "1 warning generated.\n",
      "1 warning generated.\n",
      "1 warning generated.\n",
      "1 warning generated.\n",
      "1 warning generated.\n",
      "1 warning generated.\n",
      "1 warning generated.\n",
      "1 warning generated.\n",
      "1 warning generated.\n",
      "1 warning generated.\n",
      "1 warning generated.\n",
      "1 warning generated.\n",
      "1 warning generated.\n",
      "1 warning generated.\n",
      "1 warning generated.\n",
      "1 warning generated.\n",
      "1 warning generated.\n",
      "1 warning generated.\n",
      "1 warning generated.\n",
      "1 warning generated.\n",
      "1 warning generated.\n",
      "1 warning generated.\n",
      "1 warning generated.\n",
      "1 warning generated.\n",
      "1 warning generated.\n",
      "1 warning generated.\n",
      "1 warning generated.\n",
      "1 warning generated.\n",
      "1 warning generated.\n",
      "1 warning generated.\n",
      "1 warning generated.\n",
      "1 warning generated.\n",
      "1 warning generated.\n"
     ]
    },
    {
     "name": "stdout",
     "output_type": "stream",
     "text": [
      "[LightGBM] [Info] GPU programs have been built\n",
      "[LightGBM] [Info] Size of histogram bin entry: 16\n",
      "[LightGBM] [Info] 188 dense feature groups (458.99 MB) transferred to GPU in 0.312762 secs. 1 sparse feature groups\n",
      "[LightGBM] [Info] Start training from score 32.260797\n",
      "[100]\tvalid_0's l2: 146.192\n",
      "[200]\tvalid_0's l2: 125.545\n",
      "[300]\tvalid_0's l2: 117.308\n",
      "[400]\tvalid_0's l2: 112.755\n",
      "[500]\tvalid_0's l2: 109.56\n",
      "[600]\tvalid_0's l2: 107.164\n",
      "[700]\tvalid_0's l2: 105.261\n",
      "[800]\tvalid_0's l2: 103.648\n",
      "[900]\tvalid_0's l2: 102.33\n",
      "[1000]\tvalid_0's l2: 101.124\n",
      "useless_cols:['type_18']\n",
      "name lgb,fold:1\n",
      "[LightGBM] [Info] This is the GPU trainer!!\n",
      "[LightGBM] [Info] Total Bins 24353\n",
      "[LightGBM] [Info] Number of data points in the train set: 2560058, number of used features: 218\n",
      "[LightGBM] [Info] Using GPU Device: Tesla P100-PCIE-16GB, Vendor: NVIDIA Corporation\n",
      "[LightGBM] [Info] Compiling OpenCL Kernel with 256 bins...\n",
      "[LightGBM] [Info] GPU programs have been built\n",
      "[LightGBM] [Info] Size of histogram bin entry: 16\n",
      "[LightGBM] [Info] 188 dense feature groups (458.99 MB) transferred to GPU in 0.298599 secs. 1 sparse feature groups\n",
      "[LightGBM] [Info] Start training from score 32.258245\n",
      "[100]\tvalid_0's l2: 149.741\n",
      "[200]\tvalid_0's l2: 130.144\n",
      "[300]\tvalid_0's l2: 122.071\n",
      "[400]\tvalid_0's l2: 117.205\n",
      "[500]\tvalid_0's l2: 114.053\n",
      "[600]\tvalid_0's l2: 111.453\n",
      "[700]\tvalid_0's l2: 109.423\n",
      "[800]\tvalid_0's l2: 107.699\n",
      "[900]\tvalid_0's l2: 106.154\n",
      "[1000]\tvalid_0's l2: 104.928\n",
      "name lgb,fold:2\n",
      "[LightGBM] [Info] This is the GPU trainer!!\n",
      "[LightGBM] [Info] Total Bins 24317\n",
      "[LightGBM] [Info] Number of data points in the train set: 2560058, number of used features: 218\n",
      "[LightGBM] [Info] Using GPU Device: Tesla P100-PCIE-16GB, Vendor: NVIDIA Corporation\n",
      "[LightGBM] [Info] Compiling OpenCL Kernel with 256 bins...\n",
      "[LightGBM] [Info] GPU programs have been built\n",
      "[LightGBM] [Info] Size of histogram bin entry: 16\n",
      "[LightGBM] [Info] 188 dense feature groups (458.99 MB) transferred to GPU in 0.305967 secs. 1 sparse feature groups\n",
      "[LightGBM] [Info] Start training from score 32.264608\n",
      "[100]\tvalid_0's l2: 147.19\n",
      "[200]\tvalid_0's l2: 127.503\n",
      "[300]\tvalid_0's l2: 119.855\n",
      "[400]\tvalid_0's l2: 115.014\n",
      "[500]\tvalid_0's l2: 111.64\n",
      "[600]\tvalid_0's l2: 109.122\n",
      "[700]\tvalid_0's l2: 107.095\n",
      "[800]\tvalid_0's l2: 105.319\n",
      "[900]\tvalid_0's l2: 103.895\n",
      "[1000]\tvalid_0's l2: 102.538\n",
      "name lgb,fold:3\n",
      "[LightGBM] [Info] This is the GPU trainer!!\n",
      "[LightGBM] [Info] Total Bins 24277\n",
      "[LightGBM] [Info] Number of data points in the train set: 2560058, number of used features: 218\n",
      "[LightGBM] [Info] Using GPU Device: Tesla P100-PCIE-16GB, Vendor: NVIDIA Corporation\n",
      "[LightGBM] [Info] Compiling OpenCL Kernel with 256 bins...\n",
      "[LightGBM] [Info] GPU programs have been built\n",
      "[LightGBM] [Info] Size of histogram bin entry: 16\n",
      "[LightGBM] [Info] 188 dense feature groups (458.99 MB) transferred to GPU in 0.303015 secs. 1 sparse feature groups\n",
      "[LightGBM] [Info] Start training from score 32.263451\n",
      "[100]\tvalid_0's l2: 156.722\n",
      "[200]\tvalid_0's l2: 135.575\n",
      "[300]\tvalid_0's l2: 127.033\n",
      "[400]\tvalid_0's l2: 121.873\n",
      "[500]\tvalid_0's l2: 118.455\n",
      "[600]\tvalid_0's l2: 115.649\n",
      "[700]\tvalid_0's l2: 113.504\n",
      "[800]\tvalid_0's l2: 111.627\n",
      "[900]\tvalid_0's l2: 109.966\n",
      "[1000]\tvalid_0's l2: 108.446\n",
      "name lgb,fold:4\n",
      "[LightGBM] [Info] This is the GPU trainer!!\n",
      "[LightGBM] [Info] Total Bins 24304\n",
      "[LightGBM] [Info] Number of data points in the train set: 2560058, number of used features: 218\n",
      "[LightGBM] [Info] Using GPU Device: Tesla P100-PCIE-16GB, Vendor: NVIDIA Corporation\n",
      "[LightGBM] [Info] Compiling OpenCL Kernel with 256 bins...\n",
      "[LightGBM] [Info] GPU programs have been built\n",
      "[LightGBM] [Info] Size of histogram bin entry: 16\n",
      "[LightGBM] [Info] 188 dense feature groups (458.99 MB) transferred to GPU in 0.311116 secs. 1 sparse feature groups\n",
      "[LightGBM] [Info] Start training from score 32.267675\n",
      "[100]\tvalid_0's l2: 149.222\n",
      "[200]\tvalid_0's l2: 129.619\n",
      "[300]\tvalid_0's l2: 121.498\n",
      "[400]\tvalid_0's l2: 116.814\n",
      "[500]\tvalid_0's l2: 113.345\n",
      "[600]\tvalid_0's l2: 110.763\n",
      "[700]\tvalid_0's l2: 108.708\n",
      "[800]\tvalid_0's l2: 107.014\n",
      "[900]\tvalid_0's l2: 105.51\n",
      "[1000]\tvalid_0's l2: 104.208\n",
      "name lgb,fold:5\n",
      "[LightGBM] [Info] This is the GPU trainer!!\n",
      "[LightGBM] [Info] Total Bins 24319\n",
      "[LightGBM] [Info] Number of data points in the train set: 2560058, number of used features: 218\n",
      "[LightGBM] [Info] Using GPU Device: Tesla P100-PCIE-16GB, Vendor: NVIDIA Corporation\n",
      "[LightGBM] [Info] Compiling OpenCL Kernel with 256 bins...\n",
      "[LightGBM] [Info] GPU programs have been built\n",
      "[LightGBM] [Info] Size of histogram bin entry: 16\n",
      "[LightGBM] [Info] 188 dense feature groups (458.99 MB) transferred to GPU in 0.305877 secs. 1 sparse feature groups\n",
      "[LightGBM] [Info] Start training from score 32.263476\n",
      "[100]\tvalid_0's l2: 151.705\n",
      "[200]\tvalid_0's l2: 131.792\n",
      "[300]\tvalid_0's l2: 123.867\n",
      "[400]\tvalid_0's l2: 119.056\n",
      "[500]\tvalid_0's l2: 115.711\n",
      "[600]\tvalid_0's l2: 113.193\n",
      "[700]\tvalid_0's l2: 111.135\n",
      "[800]\tvalid_0's l2: 109.508\n",
      "[900]\tvalid_0's l2: 108.009\n",
      "[1000]\tvalid_0's l2: 106.716\n",
      "name lgb,fold:6\n",
      "[LightGBM] [Info] This is the GPU trainer!!\n",
      "[LightGBM] [Info] Total Bins 24315\n",
      "[LightGBM] [Info] Number of data points in the train set: 2560058, number of used features: 218\n",
      "[LightGBM] [Info] Using GPU Device: Tesla P100-PCIE-16GB, Vendor: NVIDIA Corporation\n",
      "[LightGBM] [Info] Compiling OpenCL Kernel with 256 bins...\n",
      "[LightGBM] [Info] GPU programs have been built\n",
      "[LightGBM] [Info] Size of histogram bin entry: 16\n",
      "[LightGBM] [Info] 188 dense feature groups (458.99 MB) transferred to GPU in 0.305521 secs. 1 sparse feature groups\n",
      "[LightGBM] [Info] Start training from score 32.252400\n",
      "[100]\tvalid_0's l2: 153.417\n",
      "[200]\tvalid_0's l2: 133.113\n",
      "[300]\tvalid_0's l2: 125.12\n",
      "[400]\tvalid_0's l2: 120.074\n",
      "[500]\tvalid_0's l2: 116.717\n",
      "[600]\tvalid_0's l2: 114.227\n",
      "[700]\tvalid_0's l2: 112.325\n",
      "[800]\tvalid_0's l2: 110.589\n",
      "[900]\tvalid_0's l2: 109.226\n",
      "[1000]\tvalid_0's l2: 107.929\n",
      "name lgb,fold:7\n",
      "[LightGBM] [Info] This is the GPU trainer!!\n",
      "[LightGBM] [Info] Total Bins 24314\n",
      "[LightGBM] [Info] Number of data points in the train set: 2560058, number of used features: 218\n",
      "[LightGBM] [Info] Using GPU Device: Tesla P100-PCIE-16GB, Vendor: NVIDIA Corporation\n",
      "[LightGBM] [Info] Compiling OpenCL Kernel with 256 bins...\n",
      "[LightGBM] [Info] GPU programs have been built\n",
      "[LightGBM] [Info] Size of histogram bin entry: 16\n",
      "[LightGBM] [Info] 188 dense feature groups (458.99 MB) transferred to GPU in 0.311005 secs. 1 sparse feature groups\n",
      "[LightGBM] [Info] Start training from score 32.255091\n",
      "[100]\tvalid_0's l2: 151.967\n",
      "[200]\tvalid_0's l2: 131.259\n",
      "[300]\tvalid_0's l2: 123.435\n",
      "[400]\tvalid_0's l2: 118.676\n",
      "[500]\tvalid_0's l2: 115.401\n",
      "[600]\tvalid_0's l2: 112.824\n",
      "[700]\tvalid_0's l2: 110.828\n",
      "[800]\tvalid_0's l2: 109.171\n",
      "[900]\tvalid_0's l2: 107.678\n",
      "[1000]\tvalid_0's l2: 106.274\n",
      "name lgb,fold:8\n",
      "[LightGBM] [Info] This is the GPU trainer!!\n",
      "[LightGBM] [Info] Total Bins 24316\n",
      "[LightGBM] [Info] Number of data points in the train set: 2560058, number of used features: 218\n",
      "[LightGBM] [Info] Using GPU Device: Tesla P100-PCIE-16GB, Vendor: NVIDIA Corporation\n",
      "[LightGBM] [Info] Compiling OpenCL Kernel with 256 bins...\n",
      "[LightGBM] [Info] GPU programs have been built\n",
      "[LightGBM] [Info] Size of histogram bin entry: 16\n",
      "[LightGBM] [Info] 188 dense feature groups (458.99 MB) transferred to GPU in 0.307217 secs. 1 sparse feature groups\n",
      "[LightGBM] [Info] Start training from score 32.253243\n",
      "[100]\tvalid_0's l2: 147.791\n",
      "[200]\tvalid_0's l2: 127.37\n",
      "[300]\tvalid_0's l2: 119.42\n",
      "[400]\tvalid_0's l2: 114.709\n",
      "[500]\tvalid_0's l2: 111.452\n",
      "[600]\tvalid_0's l2: 109.029\n",
      "[700]\tvalid_0's l2: 107.013\n",
      "[800]\tvalid_0's l2: 105.41\n",
      "[900]\tvalid_0's l2: 104.086\n",
      "[1000]\tvalid_0's l2: 102.755\n",
      "name lgb,fold:9\n",
      "[LightGBM] [Info] This is the GPU trainer!!\n",
      "[LightGBM] [Info] Total Bins 24321\n",
      "[LightGBM] [Info] Number of data points in the train set: 2560059, number of used features: 218\n",
      "[LightGBM] [Info] Using GPU Device: Tesla P100-PCIE-16GB, Vendor: NVIDIA Corporation\n",
      "[LightGBM] [Info] Compiling OpenCL Kernel with 256 bins...\n",
      "[LightGBM] [Info] GPU programs have been built\n",
      "[LightGBM] [Info] Size of histogram bin entry: 16\n",
      "[LightGBM] [Info] 188 dense feature groups (458.99 MB) transferred to GPU in 0.306051 secs. 1 sparse feature groups\n",
      "[LightGBM] [Info] Start training from score 32.265854\n",
      "[100]\tvalid_0's l2: 150.141\n",
      "[200]\tvalid_0's l2: 129.133\n",
      "[300]\tvalid_0's l2: 120.8\n",
      "[400]\tvalid_0's l2: 115.832\n",
      "[500]\tvalid_0's l2: 112.443\n",
      "[600]\tvalid_0's l2: 109.873\n",
      "[700]\tvalid_0's l2: 107.847\n",
      "[800]\tvalid_0's l2: 106.178\n",
      "[900]\tvalid_0's l2: 104.74\n",
      "[1000]\tvalid_0's l2: 103.574\n",
      "(58320,)\n"
     ]
    }
   ],
   "source": [
    "choose_cols=[ col for col in test.drop(['id','dt','target','dt_dayofweek','dt_month'],axis=1).columns]\n",
    "\n",
    "def fit_and_predict(train_feats=train,test_feats=test,model=None,num_folds=10,seed=2024,name='lgb'):\n",
    "    X=train_feats[choose_cols].copy()\n",
    "    y=train_feats[Config.TARGET_NAME].copy()\n",
    "    test_X=test_feats[choose_cols].copy()\n",
    "    test_pred_pro=np.zeros((num_folds,len(test_X)))\n",
    "    del train_feats,test_feats\n",
    "    gc.collect()\n",
    "    \n",
    "    #10折交叉验证\n",
    "    kf = KFold(n_splits=num_folds,shuffle=True,random_state=seed)\n",
    "    for fold, (train_index, valid_index) in (enumerate(kf.split(X))):\n",
    "        print(f\"name {name},fold:{fold}\")\n",
    "\n",
    "        X_train, X_valid = X.iloc[train_index], X.iloc[valid_index]\n",
    "        y_train, y_valid = y.iloc[train_index], y.iloc[valid_index]\n",
    "        \n",
    "        model.fit(X_train,y_train,eval_set=[(X_valid, y_valid)],\n",
    "                      callbacks=[log_evaluation(100)],\n",
    "                     )\n",
    "        if fold==0:\n",
    "            useless_cols=[]\n",
    "            feature_importance=list(model.feature_importances_)\n",
    "            for i in range(len(choose_cols)):\n",
    "                if (feature_importance[i]<10):\n",
    "                    useless_cols.append(choose_cols[i])\n",
    "            print(f\"useless_cols:{list(set(useless_cols))}\")\n",
    "        valid_pred=model.predict(X_valid)\n",
    "        test_pred_pro[fold]=model.predict(test_X)\n",
    "        del X_train,X_valid,y_train,y_valid\n",
    "        gc.collect()\n",
    "    test_preds=test_pred_pro.mean(axis=0)\n",
    "    return test_preds\n",
    "\n",
    "lgb_params = { \"boosting_type\": \"gbdt\",\"objective\": \"regression\",\"metric\": \"mse\",       \n",
    "               'random_state': 2024, 'n_estimators': 1000,\n",
    "                'reg_alpha': 0.1, 'reg_lambda': 10, \n",
    "                'colsample_bytree': 0.8, 'subsample': 0.8,\n",
    "                'learning_rate': 0.05, 'num_leaves': 64, 'min_child_samples': 62,\n",
    "                'max_bin':255, \"extra_trees\": True,\n",
    "                'device':'gpu','gpu_use_dp':True,#这行GPU环境的参数,想在CPU环境下运行注释这行代码\n",
    "             }\n",
    "\n",
    "test_preds=fit_and_predict(model=LGBMRegressor(**lgb_params),num_folds=Config.num_folds,seed=2024,name='lgb')\n",
    "print(test_preds.shape)"
   ]
  },
  {
   "cell_type": "markdown",
   "id": "e3785d06",
   "metadata": {
    "papermill": {
     "duration": 0.020709,
     "end_time": "2024-07-07T08:42:03.629433",
     "exception": false,
     "start_time": "2024-07-07T08:42:03.608724",
     "status": "completed"
    },
    "tags": []
   },
   "source": [
    "### 7.提交。"
   ]
  },
  {
   "cell_type": "code",
   "execution_count": 13,
   "id": "ee355e62",
   "metadata": {
    "execution": {
     "iopub.execute_input": "2024-07-07T08:42:03.672341Z",
     "iopub.status.busy": "2024-07-07T08:42:03.671734Z",
     "iopub.status.idle": "2024-07-07T08:42:03.881337Z",
     "shell.execute_reply": "2024-07-07T08:42:03.880385Z"
    },
    "papermill": {
     "duration": 0.233592,
     "end_time": "2024-07-07T08:42:03.883633",
     "exception": false,
     "start_time": "2024-07-07T08:42:03.650041",
     "status": "completed"
    },
    "tags": []
   },
   "outputs": [
    {
     "data": {
      "text/html": [
       "<div>\n",
       "<style scoped>\n",
       "    .dataframe tbody tr th:only-of-type {\n",
       "        vertical-align: middle;\n",
       "    }\n",
       "\n",
       "    .dataframe tbody tr th {\n",
       "        vertical-align: top;\n",
       "    }\n",
       "\n",
       "    .dataframe thead th {\n",
       "        text-align: right;\n",
       "    }\n",
       "</style>\n",
       "<table border=\"1\" class=\"dataframe\">\n",
       "  <thead>\n",
       "    <tr style=\"text-align: right;\">\n",
       "      <th></th>\n",
       "      <th>id</th>\n",
       "      <th>dt</th>\n",
       "      <th>target</th>\n",
       "    </tr>\n",
       "  </thead>\n",
       "  <tbody>\n",
       "    <tr>\n",
       "      <th>0</th>\n",
       "      <td>00037f39cf</td>\n",
       "      <td>1</td>\n",
       "      <td>43.058177</td>\n",
       "    </tr>\n",
       "    <tr>\n",
       "      <th>1</th>\n",
       "      <td>00037f39cf</td>\n",
       "      <td>2</td>\n",
       "      <td>39.741513</td>\n",
       "    </tr>\n",
       "    <tr>\n",
       "      <th>2</th>\n",
       "      <td>00037f39cf</td>\n",
       "      <td>3</td>\n",
       "      <td>40.766328</td>\n",
       "    </tr>\n",
       "    <tr>\n",
       "      <th>3</th>\n",
       "      <td>00037f39cf</td>\n",
       "      <td>4</td>\n",
       "      <td>40.314090</td>\n",
       "    </tr>\n",
       "    <tr>\n",
       "      <th>4</th>\n",
       "      <td>00037f39cf</td>\n",
       "      <td>5</td>\n",
       "      <td>42.152074</td>\n",
       "    </tr>\n",
       "  </tbody>\n",
       "</table>\n",
       "</div>"
      ],
      "text/plain": [
       "           id  dt     target\n",
       "0  00037f39cf   1  43.058177\n",
       "1  00037f39cf   2  39.741513\n",
       "2  00037f39cf   3  40.766328\n",
       "3  00037f39cf   4  40.314090\n",
       "4  00037f39cf   5  42.152074"
      ]
     },
     "execution_count": 13,
     "metadata": {},
     "output_type": "execute_result"
    }
   ],
   "source": [
    "submission=test[['id','dt']]\n",
    "submission['target']=test_preds\n",
    "submission=submission.sort_values(['id','dt'])\n",
    "submission.to_csv(\"yunbase.csv\",index=None)\n",
    "submission.head()"
   ]
  },
  {
   "cell_type": "markdown",
   "id": "59cb85ff",
   "metadata": {
    "papermill": {
     "duration": 0.020562,
     "end_time": "2024-07-07T08:42:03.926416",
     "exception": false,
     "start_time": "2024-07-07T08:42:03.905854",
     "status": "completed"
    },
    "tags": []
   },
   "source": [
    "### 8.改进与提高。\n",
    "\n",
    "#### 1.尝试构造更多的特征,尝试对特征进行筛选。\n",
    "\n",
    "#### 2.尝试对模型进行融合,以达到更好的效果。\n",
    "\n",
    "#### 3.这里有些房屋数据太少,或者说有些房屋如果R^2<0的话可以直接用均值当作预测结果。\n",
    "\n",
    "#### 4.本次比赛的评估指标为MSE,可以针对MSE大的房屋进行专门的优化。"
   ]
  }
 ],
 "metadata": {
  "kaggle": {
   "accelerator": "gpu",
   "dataSources": [
    {
     "datasetId": 5313833,
     "sourceId": 8831343,
     "sourceType": "datasetVersion"
    }
   ],
   "dockerImageVersionId": 30732,
   "isGpuEnabled": true,
   "isInternetEnabled": true,
   "language": "python",
   "sourceType": "notebook"
  },
  "kernelspec": {
   "display_name": "Python 3",
   "language": "python",
   "name": "python3"
  },
  "language_info": {
   "codemirror_mode": {
    "name": "ipython",
    "version": 3
   },
   "file_extension": ".py",
   "mimetype": "text/x-python",
   "name": "python",
   "nbconvert_exporter": "python",
   "pygments_lexer": "ipython3",
   "version": "3.10.13"
  },
  "papermill": {
   "default_parameters": {},
   "duration": 1270.501403,
   "end_time": "2024-07-07T08:42:04.670073",
   "environment_variables": {},
   "exception": null,
   "input_path": "__notebook__.ipynb",
   "output_path": "__notebook__.ipynb",
   "parameters": {},
   "start_time": "2024-07-07T08:20:54.168670",
   "version": "2.5.0"
  }
 },
 "nbformat": 4,
 "nbformat_minor": 5
}
