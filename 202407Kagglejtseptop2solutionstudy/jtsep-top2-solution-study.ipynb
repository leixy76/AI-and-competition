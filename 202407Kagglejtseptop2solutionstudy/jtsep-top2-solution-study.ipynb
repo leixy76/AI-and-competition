{
 "cells": [
  {
   "cell_type": "markdown",
   "id": "2164bca6",
   "metadata": {
    "papermill": {
     "duration": 0.005926,
     "end_time": "2024-07-22T03:07:34.667554",
     "exception": false,
     "start_time": "2024-07-22T03:07:34.661628",
     "status": "completed"
    },
    "tags": []
   },
   "source": [
    "## Created by <a href=\"https://github.com/yunsuxiaozi\">yunsuxiaozi</a> 2024/7/22\n",
    "\n",
    "#### 比赛链接如下:<a href=\"https://www.kaggle.com/competitions/jpx-tokyo-stock-exchange-prediction\">JPX Tokyo Stock Exchange Prediction</a>.这个方案和我往常解析的方案有点不同,我在看完代码之后在讨论区发现了这个<a href=\"https://www.kaggle.com/competitions/jpx-tokyo-stock-exchange-prediction/discussion/364227\">About the 2nd place solution</a>.这个代码是有错误的,将错误修正之后分数就下降了。也就是说这个代码是靠错误凭运气达到了第二名，第一名据说也是有错误的。但是,一方面我代码已经看完了,不开源就浪费了;另外这也是我第一次接触股票预测的比赛,这个代码对我来说还是有参考意义的,故整理如下。"
   ]
  },
  {
   "cell_type": "markdown",
   "id": "4d78a97e",
   "metadata": {
    "papermill": {
     "duration": 0.004465,
     "end_time": "2024-07-22T03:07:34.676748",
     "exception": false,
     "start_time": "2024-07-22T03:07:34.672283",
     "status": "completed"
    },
    "tags": []
   },
   "source": [
    "### 1.导入必要的python库,并固定随机种子。"
   ]
  },
  {
   "cell_type": "code",
   "execution_count": 1,
   "id": "e48eb1bb",
   "metadata": {
    "execution": {
     "iopub.execute_input": "2024-07-22T03:07:34.689478Z",
     "iopub.status.busy": "2024-07-22T03:07:34.688042Z",
     "iopub.status.idle": "2024-07-22T03:07:37.014758Z",
     "shell.execute_reply": "2024-07-22T03:07:37.013532Z"
    },
    "papermill": {
     "duration": 2.3368,
     "end_time": "2024-07-22T03:07:37.018112",
     "exception": false,
     "start_time": "2024-07-22T03:07:34.681312",
     "status": "completed"
    },
    "tags": []
   },
   "outputs": [
    {
     "data": {
      "text/html": [
       "<style type='text/css'>\n",
       ".datatable table.frame { margin-bottom: 0; }\n",
       ".datatable table.frame thead { border-bottom: none; }\n",
       ".datatable table.frame tr.coltypes td {  color: #FFFFFF;  line-height: 6px;  padding: 0 0.5em;}\n",
       ".datatable .bool    { background: #DDDD99; }\n",
       ".datatable .object  { background: #565656; }\n",
       ".datatable .int     { background: #5D9E5D; }\n",
       ".datatable .float   { background: #4040CC; }\n",
       ".datatable .str     { background: #CC4040; }\n",
       ".datatable .time    { background: #40CC40; }\n",
       ".datatable .row_index {  background: var(--jp-border-color3);  border-right: 1px solid var(--jp-border-color0);  color: var(--jp-ui-font-color3);  font-size: 9px;}\n",
       ".datatable .frame tbody td { text-align: left; }\n",
       ".datatable .frame tr.coltypes .row_index {  background: var(--jp-border-color0);}\n",
       ".datatable th:nth-child(2) { padding-left: 12px; }\n",
       ".datatable .hellipsis {  color: var(--jp-cell-editor-border-color);}\n",
       ".datatable .vellipsis {  background: var(--jp-layout-color0);  color: var(--jp-cell-editor-border-color);}\n",
       ".datatable .na {  color: var(--jp-cell-editor-border-color);  font-size: 80%;}\n",
       ".datatable .sp {  opacity: 0.25;}\n",
       ".datatable .footer { font-size: 9px; }\n",
       ".datatable .frame_dimensions {  background: var(--jp-border-color3);  border-top: 1px solid var(--jp-border-color0);  color: var(--jp-ui-font-color3);  display: inline-block;  opacity: 0.6;  padding: 1px 10px 1px 5px;}\n",
       "</style>\n"
      ],
      "text/plain": [
       "<IPython.core.display.HTML object>"
      ]
     },
     "metadata": {},
     "output_type": "display_data"
    }
   ],
   "source": [
    "import pandas as pd#导入csv文件的库\n",
    "import numpy as np#矩阵运算与科学计算的库\n",
    "from scipy import stats#统计学分析的python库\n",
    "import lightgbm as lgb#lightgbm模型\n",
    "import jpx_tokyo_market_prediction#这个是比赛官方的环境\n",
    "import warnings#避免一些可以忽略的报错\n",
    "warnings.filterwarnings('ignore')#filterwarnings()方法是用于设置警告过滤器的方法，它可以控制警告信息的输出方式和级别。\n",
    "\n",
    "import random#提供了一些用于生成随机数的函数\n",
    "#设置随机种子,保证模型可以复现\n",
    "def seed_everything(seed):\n",
    "    np.random.seed(seed)#numpy的随机种子\n",
    "    random.seed(seed)#python内置的随机种子\n",
    "seed_everything(seed=2024)"
   ]
  },
  {
   "cell_type": "markdown",
   "id": "326c6959",
   "metadata": {
    "papermill": {
     "duration": 0.004715,
     "end_time": "2024-07-22T03:07:37.028290",
     "exception": false,
     "start_time": "2024-07-22T03:07:37.023575",
     "status": "completed"
    },
    "tags": []
   },
   "source": [
    "### 2.读取数据集。"
   ]
  },
  {
   "cell_type": "code",
   "execution_count": 2,
   "id": "df5a70ab",
   "metadata": {
    "execution": {
     "iopub.execute_input": "2024-07-22T03:07:37.040118Z",
     "iopub.status.busy": "2024-07-22T03:07:37.039674Z",
     "iopub.status.idle": "2024-07-22T03:07:46.299629Z",
     "shell.execute_reply": "2024-07-22T03:07:46.298072Z"
    },
    "papermill": {
     "duration": 9.269484,
     "end_time": "2024-07-22T03:07:46.302743",
     "exception": false,
     "start_time": "2024-07-22T03:07:37.033259",
     "status": "completed"
    },
    "tags": []
   },
   "outputs": [
    {
     "name": "stdout",
     "output_type": "stream",
     "text": [
      "len(train):2324923\n"
     ]
    },
    {
     "data": {
      "text/html": [
       "<div>\n",
       "<style scoped>\n",
       "    .dataframe tbody tr th:only-of-type {\n",
       "        vertical-align: middle;\n",
       "    }\n",
       "\n",
       "    .dataframe tbody tr th {\n",
       "        vertical-align: top;\n",
       "    }\n",
       "\n",
       "    .dataframe thead th {\n",
       "        text-align: right;\n",
       "    }\n",
       "</style>\n",
       "<table border=\"1\" class=\"dataframe\">\n",
       "  <thead>\n",
       "    <tr style=\"text-align: right;\">\n",
       "      <th></th>\n",
       "      <th>Date</th>\n",
       "      <th>SecuritiesCode</th>\n",
       "      <th>Open</th>\n",
       "      <th>High</th>\n",
       "      <th>Low</th>\n",
       "      <th>Close</th>\n",
       "      <th>Volume</th>\n",
       "      <th>Target</th>\n",
       "    </tr>\n",
       "  </thead>\n",
       "  <tbody>\n",
       "    <tr>\n",
       "      <th>0</th>\n",
       "      <td>2017-01-04</td>\n",
       "      <td>1301</td>\n",
       "      <td>2734.0</td>\n",
       "      <td>2755.0</td>\n",
       "      <td>2730.0</td>\n",
       "      <td>2742.0</td>\n",
       "      <td>31400</td>\n",
       "      <td>0.000730</td>\n",
       "    </tr>\n",
       "    <tr>\n",
       "      <th>1</th>\n",
       "      <td>2017-01-04</td>\n",
       "      <td>1332</td>\n",
       "      <td>568.0</td>\n",
       "      <td>576.0</td>\n",
       "      <td>563.0</td>\n",
       "      <td>571.0</td>\n",
       "      <td>2798500</td>\n",
       "      <td>0.012324</td>\n",
       "    </tr>\n",
       "    <tr>\n",
       "      <th>2</th>\n",
       "      <td>2017-01-04</td>\n",
       "      <td>1333</td>\n",
       "      <td>3150.0</td>\n",
       "      <td>3210.0</td>\n",
       "      <td>3140.0</td>\n",
       "      <td>3210.0</td>\n",
       "      <td>270800</td>\n",
       "      <td>0.006154</td>\n",
       "    </tr>\n",
       "    <tr>\n",
       "      <th>3</th>\n",
       "      <td>2017-01-04</td>\n",
       "      <td>1376</td>\n",
       "      <td>1510.0</td>\n",
       "      <td>1550.0</td>\n",
       "      <td>1510.0</td>\n",
       "      <td>1550.0</td>\n",
       "      <td>11300</td>\n",
       "      <td>0.011053</td>\n",
       "    </tr>\n",
       "    <tr>\n",
       "      <th>4</th>\n",
       "      <td>2017-01-04</td>\n",
       "      <td>1377</td>\n",
       "      <td>3270.0</td>\n",
       "      <td>3350.0</td>\n",
       "      <td>3270.0</td>\n",
       "      <td>3330.0</td>\n",
       "      <td>150800</td>\n",
       "      <td>0.003026</td>\n",
       "    </tr>\n",
       "  </tbody>\n",
       "</table>\n",
       "</div>"
      ],
      "text/plain": [
       "        Date  SecuritiesCode    Open    High     Low   Close   Volume  \\\n",
       "0 2017-01-04            1301  2734.0  2755.0  2730.0  2742.0    31400   \n",
       "1 2017-01-04            1332   568.0   576.0   563.0   571.0  2798500   \n",
       "2 2017-01-04            1333  3150.0  3210.0  3140.0  3210.0   270800   \n",
       "3 2017-01-04            1376  1510.0  1550.0  1510.0  1550.0    11300   \n",
       "4 2017-01-04            1377  3270.0  3350.0  3270.0  3330.0   150800   \n",
       "\n",
       "     Target  \n",
       "0  0.000730  \n",
       "1  0.012324  \n",
       "2  0.006154  \n",
       "3  0.011053  \n",
       "4  0.003026  "
      ]
     },
     "execution_count": 2,
     "metadata": {},
     "output_type": "execute_result"
    }
   ],
   "source": [
    "#将CSV文件中的\"Date\"列解析为日期时间格式\n",
    "train = pd.read_csv(\"/kaggle/input/jpx-tokyo-stock-exchange-prediction/train_files/stock_prices.csv\",parse_dates=[\"Date\"])\n",
    "#RowId就是日期+证券代码,故drop   重复信息\n",
    "#ExpectedDividend 缺失值占比99%  缺失值\n",
    "#AdjustmentFactor=1的占比:0.9996   一列几乎只有唯一值\n",
    "#'SupervisionFlag'为False占比:0.9997 一列几乎只有唯一值\n",
    "#dropna,去掉有缺失值的行(不确定线性插值会不会更好)\n",
    "train=train.drop(columns=['RowId','ExpectedDividend','AdjustmentFactor','SupervisionFlag']).dropna().reset_index(drop=True)\n",
    "print(f\"len(train):{len(train)}\")\n",
    "#对测试数据进行同样的操作,测试数据要全部预测,所以不能dropna.\n",
    "test = pd.read_csv(\"/kaggle/input/jpx-tokyo-stock-exchange-prediction/supplemental_files/secondary_stock_prices.csv\",parse_dates=[\"Date\"])\n",
    "test=test.drop(columns=['RowId','ExpectedDividend','AdjustmentFactor','SupervisionFlag'])\n",
    "\n",
    "train.head()"
   ]
  },
  {
   "cell_type": "markdown",
   "id": "e3bd8804",
   "metadata": {
    "papermill": {
     "duration": 0.005583,
     "end_time": "2024-07-22T03:07:46.314061",
     "exception": false,
     "start_time": "2024-07-22T03:07:46.308478",
     "status": "completed"
    },
    "tags": []
   },
   "source": [
    "### 3.特征工程。这里的特征工程存在错误。它应该groupby 'SecuritiesCode'来考虑移动特征,而它这里只是20行移动。"
   ]
  },
  {
   "cell_type": "code",
   "execution_count": 3,
   "id": "6a3badd4",
   "metadata": {
    "execution": {
     "iopub.execute_input": "2024-07-22T03:07:46.326917Z",
     "iopub.status.busy": "2024-07-22T03:07:46.326469Z",
     "iopub.status.idle": "2024-07-22T03:08:10.159536Z",
     "shell.execute_reply": "2024-07-22T03:08:10.158257Z"
    },
    "papermill": {
     "duration": 23.843066,
     "end_time": "2024-07-22T03:08:10.162700",
     "exception": false,
     "start_time": "2024-07-22T03:07:46.319634",
     "status": "completed"
    },
    "tags": []
   },
   "outputs": [
    {
     "data": {
      "text/html": [
       "<div>\n",
       "<style scoped>\n",
       "    .dataframe tbody tr th:only-of-type {\n",
       "        vertical-align: middle;\n",
       "    }\n",
       "\n",
       "    .dataframe tbody tr th {\n",
       "        vertical-align: top;\n",
       "    }\n",
       "\n",
       "    .dataframe thead th {\n",
       "        text-align: right;\n",
       "    }\n",
       "</style>\n",
       "<table border=\"1\" class=\"dataframe\">\n",
       "  <thead>\n",
       "    <tr style=\"text-align: right;\">\n",
       "      <th></th>\n",
       "      <th>Date</th>\n",
       "      <th>SecuritiesCode</th>\n",
       "      <th>Open</th>\n",
       "      <th>High</th>\n",
       "      <th>Low</th>\n",
       "      <th>Close</th>\n",
       "      <th>Volume</th>\n",
       "      <th>Target</th>\n",
       "      <th>return_1month</th>\n",
       "      <th>return_2month</th>\n",
       "      <th>return_3month</th>\n",
       "      <th>volatility_1month</th>\n",
       "      <th>volatility_2month</th>\n",
       "      <th>volatility_3month</th>\n",
       "      <th>MA_gap_1month</th>\n",
       "      <th>MA_gap_2month</th>\n",
       "      <th>MA_gap_3month</th>\n",
       "    </tr>\n",
       "  </thead>\n",
       "  <tbody>\n",
       "    <tr>\n",
       "      <th>0</th>\n",
       "      <td>2017-01-04</td>\n",
       "      <td>1301</td>\n",
       "      <td>2734.0</td>\n",
       "      <td>2755.0</td>\n",
       "      <td>2730.0</td>\n",
       "      <td>2742.0</td>\n",
       "      <td>31400</td>\n",
       "      <td>0.000730</td>\n",
       "      <td>0.0</td>\n",
       "      <td>0.0</td>\n",
       "      <td>0.0</td>\n",
       "      <td>0.0</td>\n",
       "      <td>0.0</td>\n",
       "      <td>0.0</td>\n",
       "      <td>0.0</td>\n",
       "      <td>0.0</td>\n",
       "      <td>0.0</td>\n",
       "    </tr>\n",
       "    <tr>\n",
       "      <th>1</th>\n",
       "      <td>2017-01-04</td>\n",
       "      <td>1332</td>\n",
       "      <td>568.0</td>\n",
       "      <td>576.0</td>\n",
       "      <td>563.0</td>\n",
       "      <td>571.0</td>\n",
       "      <td>2798500</td>\n",
       "      <td>0.012324</td>\n",
       "      <td>0.0</td>\n",
       "      <td>0.0</td>\n",
       "      <td>0.0</td>\n",
       "      <td>0.0</td>\n",
       "      <td>0.0</td>\n",
       "      <td>0.0</td>\n",
       "      <td>0.0</td>\n",
       "      <td>0.0</td>\n",
       "      <td>0.0</td>\n",
       "    </tr>\n",
       "    <tr>\n",
       "      <th>2</th>\n",
       "      <td>2017-01-04</td>\n",
       "      <td>1333</td>\n",
       "      <td>3150.0</td>\n",
       "      <td>3210.0</td>\n",
       "      <td>3140.0</td>\n",
       "      <td>3210.0</td>\n",
       "      <td>270800</td>\n",
       "      <td>0.006154</td>\n",
       "      <td>0.0</td>\n",
       "      <td>0.0</td>\n",
       "      <td>0.0</td>\n",
       "      <td>0.0</td>\n",
       "      <td>0.0</td>\n",
       "      <td>0.0</td>\n",
       "      <td>0.0</td>\n",
       "      <td>0.0</td>\n",
       "      <td>0.0</td>\n",
       "    </tr>\n",
       "    <tr>\n",
       "      <th>3</th>\n",
       "      <td>2017-01-04</td>\n",
       "      <td>1376</td>\n",
       "      <td>1510.0</td>\n",
       "      <td>1550.0</td>\n",
       "      <td>1510.0</td>\n",
       "      <td>1550.0</td>\n",
       "      <td>11300</td>\n",
       "      <td>0.011053</td>\n",
       "      <td>0.0</td>\n",
       "      <td>0.0</td>\n",
       "      <td>0.0</td>\n",
       "      <td>0.0</td>\n",
       "      <td>0.0</td>\n",
       "      <td>0.0</td>\n",
       "      <td>0.0</td>\n",
       "      <td>0.0</td>\n",
       "      <td>0.0</td>\n",
       "    </tr>\n",
       "    <tr>\n",
       "      <th>4</th>\n",
       "      <td>2017-01-04</td>\n",
       "      <td>1377</td>\n",
       "      <td>3270.0</td>\n",
       "      <td>3350.0</td>\n",
       "      <td>3270.0</td>\n",
       "      <td>3330.0</td>\n",
       "      <td>150800</td>\n",
       "      <td>0.003026</td>\n",
       "      <td>0.0</td>\n",
       "      <td>0.0</td>\n",
       "      <td>0.0</td>\n",
       "      <td>0.0</td>\n",
       "      <td>0.0</td>\n",
       "      <td>0.0</td>\n",
       "      <td>0.0</td>\n",
       "      <td>0.0</td>\n",
       "      <td>0.0</td>\n",
       "    </tr>\n",
       "  </tbody>\n",
       "</table>\n",
       "</div>"
      ],
      "text/plain": [
       "        Date  SecuritiesCode    Open    High     Low   Close   Volume  \\\n",
       "0 2017-01-04            1301  2734.0  2755.0  2730.0  2742.0    31400   \n",
       "1 2017-01-04            1332   568.0   576.0   563.0   571.0  2798500   \n",
       "2 2017-01-04            1333  3150.0  3210.0  3140.0  3210.0   270800   \n",
       "3 2017-01-04            1376  1510.0  1550.0  1510.0  1550.0    11300   \n",
       "4 2017-01-04            1377  3270.0  3350.0  3270.0  3330.0   150800   \n",
       "\n",
       "     Target  return_1month  return_2month  return_3month  volatility_1month  \\\n",
       "0  0.000730            0.0            0.0            0.0                0.0   \n",
       "1  0.012324            0.0            0.0            0.0                0.0   \n",
       "2  0.006154            0.0            0.0            0.0                0.0   \n",
       "3  0.011053            0.0            0.0            0.0                0.0   \n",
       "4  0.003026            0.0            0.0            0.0                0.0   \n",
       "\n",
       "   volatility_2month  volatility_3month  MA_gap_1month  MA_gap_2month  \\\n",
       "0                0.0                0.0            0.0            0.0   \n",
       "1                0.0                0.0            0.0            0.0   \n",
       "2                0.0                0.0            0.0            0.0   \n",
       "3                0.0                0.0            0.0            0.0   \n",
       "4                0.0                0.0            0.0            0.0   \n",
       "\n",
       "   MA_gap_3month  \n",
       "0            0.0  \n",
       "1            0.0  \n",
       "2            0.0  \n",
       "3            0.0  \n",
       "4            0.0  "
      ]
     },
     "execution_count": 3,
     "metadata": {},
     "output_type": "execute_result"
    }
   ],
   "source": [
    "def add_features(feats):\n",
    "    #股票相比1个月,2个月,3个月的回报率 pct_change (v_t-v_{t-1}}/v_{t-1})\n",
    "    feats[\"return_1month\"] = feats[\"Close\"].pct_change(20)\n",
    "    feats[\"return_2month\"] = feats[\"Close\"].pct_change(40)\n",
    "    feats[\"return_3month\"] = feats[\"Close\"].pct_change(60)\n",
    "    \n",
    "    #股票的波动性,取log可能和长尾分布有关,diff就是作差,rolling是考虑一段时间,std是方差\n",
    "    feats[\"volatility_1month\"] = (\n",
    "        np.log(feats[\"Close\"]).diff().rolling(20).std()\n",
    "    )\n",
    "    feats[\"volatility_2month\"] = (\n",
    "        np.log(feats[\"Close\"]).diff().rolling(40).std()\n",
    "    )\n",
    "    feats[\"volatility_3month\"] = (\n",
    "        np.log(feats[\"Close\"]).diff().rolling(60).std()\n",
    "    )\n",
    "    \n",
    "    #股票的收盘价/股票一个月收盘价的移动平均\n",
    "    feats[\"MA_gap_1month\"] = feats[\"Close\"] / (\n",
    "        feats[\"Close\"].rolling(20).mean()\n",
    "    )\n",
    "    feats[\"MA_gap_2month\"] = feats[\"Close\"] / (\n",
    "        feats[\"Close\"].rolling(40).mean()\n",
    "    )\n",
    "    feats[\"MA_gap_3month\"] = feats[\"Close\"] / (\n",
    "        feats[\"Close\"].rolling(60).mean()\n",
    "    )\n",
    "    \n",
    "    return feats\n",
    "\n",
    "#将缺失值,np.inf,-np.inf都转成0\n",
    "def fill_nan_inf(df):\n",
    "    df = df.fillna(0)\n",
    "    df = df.replace([np.inf, -np.inf], 0)\n",
    "    return df\n",
    "train = add_features(train)\n",
    "train=fill_nan_inf(train)\n",
    "test = add_features(test)\n",
    "test=fill_nan_inf(test)\n",
    "train.head()"
   ]
  },
  {
   "cell_type": "markdown",
   "id": "63ead625",
   "metadata": {
    "papermill": {
     "duration": 0.005445,
     "end_time": "2024-07-22T03:08:10.174276",
     "exception": false,
     "start_time": "2024-07-22T03:08:10.168831",
     "status": "completed"
    },
    "tags": []
   },
   "source": [
    "### 4.构造训练验证数据集.这里分别选择了1000支股票。"
   ]
  },
  {
   "cell_type": "code",
   "execution_count": 4,
   "id": "18ceadc9",
   "metadata": {
    "execution": {
     "iopub.execute_input": "2024-07-22T03:08:10.188678Z",
     "iopub.status.busy": "2024-07-22T03:08:10.188163Z",
     "iopub.status.idle": "2024-07-22T03:08:11.019641Z",
     "shell.execute_reply": "2024-07-22T03:08:11.018413Z"
    },
    "papermill": {
     "duration": 0.842294,
     "end_time": "2024-07-22T03:08:11.022846",
     "exception": false,
     "start_time": "2024-07-22T03:08:10.180552",
     "status": "completed"
    },
    "tags": []
   },
   "outputs": [
    {
     "name": "stdout",
     "output_type": "stream",
     "text": [
      "len(train_securitiescode):1000,len(valid_securitiescode):1000\n"
     ]
    }
   ],
   "source": [
    "#Target是标签,date是字符串,SecuritiesCode没什么用\n",
    "features =list(train.drop(['Target','Date','SecuritiesCode'],axis=1).columns)  \n",
    "\n",
    "#每个证券代码的max_target-min_target排序\n",
    "group=(train.groupby('SecuritiesCode')['Target'].max()-train.groupby('SecuritiesCode')['Target'].min()).sort_values()\n",
    "#取max_target-min_target最小的1000个股票\n",
    "list_spred_h=list(group[:1000].index)\n",
    "#剩下的股票\n",
    "list_spred_l=list(group[1000:].index)\n",
    "print(f\"len(train_securitiescode):{len(list_spred_h)},len(valid_securitiescode):{len(list_spred_l)}\")\n",
    "\n",
    "train_X=train[train['SecuritiesCode'].isin(list_spred_h)][features]\n",
    "train_y=train[train['SecuritiesCode'].isin(list_spred_h)][\"Target\"]\n",
    "valid_X=train[train['SecuritiesCode'].isin(list_spred_l)][features]\n",
    "valid_y=train[train['SecuritiesCode'].isin(list_spred_l)][\"Target\"]\n",
    "\n",
    "tr_dataset = lgb.Dataset(train_X,train_y,feature_name = features)\n",
    "vl_dataset = lgb.Dataset(valid_X,valid_y,feature_name = features)"
   ]
  },
  {
   "cell_type": "markdown",
   "id": "8364e2dd",
   "metadata": {
    "papermill": {
     "duration": 0.006047,
     "end_time": "2024-07-22T03:08:11.034958",
     "exception": false,
     "start_time": "2024-07-22T03:08:11.028911",
     "status": "completed"
    },
    "tags": []
   },
   "source": [
    "### 5.模型的训练。"
   ]
  },
  {
   "cell_type": "code",
   "execution_count": 5,
   "id": "ee6ec113",
   "metadata": {
    "execution": {
     "iopub.execute_input": "2024-07-22T03:08:11.049176Z",
     "iopub.status.busy": "2024-07-22T03:08:11.048723Z",
     "iopub.status.idle": "2024-07-22T03:13:13.092347Z",
     "shell.execute_reply": "2024-07-22T03:13:13.090990Z"
    },
    "papermill": {
     "duration": 302.055117,
     "end_time": "2024-07-22T03:13:13.096000",
     "exception": false,
     "start_time": "2024-07-22T03:08:11.040883",
     "status": "completed"
    },
    "tags": []
   },
   "outputs": [
    {
     "name": "stdout",
     "output_type": "stream",
     "text": [
      "Training until validation scores don't improve for 300 rounds\n",
      "[100]\ttraining's pearsonr: 0.0564282\tvalid_1's pearsonr: 0.0108009\n",
      "[200]\ttraining's pearsonr: 0.0680563\tvalid_1's pearsonr: 0.0134107\n",
      "[300]\ttraining's pearsonr: 0.0761529\tvalid_1's pearsonr: 0.0142165\n",
      "[400]\ttraining's pearsonr: 0.082453\tvalid_1's pearsonr: 0.0146069\n",
      "[500]\ttraining's pearsonr: 0.0883774\tvalid_1's pearsonr: 0.0147148\n",
      "[600]\ttraining's pearsonr: 0.0938508\tvalid_1's pearsonr: 0.0148582\n",
      "[700]\ttraining's pearsonr: 0.0986576\tvalid_1's pearsonr: 0.0148196\n",
      "[800]\ttraining's pearsonr: 0.103034\tvalid_1's pearsonr: 0.0146873\n",
      "[900]\ttraining's pearsonr: 0.106989\tvalid_1's pearsonr: 0.0146611\n",
      "Early stopping, best iteration is:\n",
      "[606]\ttraining's pearsonr: 0.0942029\tvalid_1's pearsonr: 0.0148682\n"
     ]
    }
   ],
   "source": [
    "def feval_pearsonr(y_pred, lgb_train):\n",
    "    y_true = lgb_train.get_label()\n",
    "    return 'pearsonr', stats.pearsonr(y_true, y_pred)[0], True\n",
    "\n",
    "#lgb模型的参数\n",
    "params_lgb = {'learning_rate': 0.005,\n",
    "              'metric':'None',\n",
    "              'objective': 'regression',\n",
    "              'boosting': 'gbdt',\n",
    "              'verbosity': 0,\n",
    "              'n_jobs': -1,\n",
    "              'force_col_wise':True}\n",
    "\n",
    "model = lgb.train(params = params_lgb, \n",
    "                train_set = tr_dataset, \n",
    "                valid_sets = [tr_dataset, vl_dataset], \n",
    "                num_boost_round = 1000, \n",
    "                feval=feval_pearsonr,\n",
    "                callbacks=[ lgb.early_stopping(stopping_rounds=300, verbose=True), \n",
    "                           lgb.log_evaluation(period=100)])  "
   ]
  },
  {
   "cell_type": "markdown",
   "id": "757552a8",
   "metadata": {
    "papermill": {
     "duration": 0.007233,
     "end_time": "2024-07-22T03:13:13.110997",
     "exception": false,
     "start_time": "2024-07-22T03:13:13.103764",
     "status": "completed"
    },
    "tags": []
   },
   "source": [
    "### 6.模型的推理.这里需要将数值转换成rank."
   ]
  },
  {
   "cell_type": "code",
   "execution_count": 6,
   "id": "2319a94e",
   "metadata": {
    "execution": {
     "iopub.execute_input": "2024-07-22T03:13:13.127150Z",
     "iopub.status.busy": "2024-07-22T03:13:13.126684Z",
     "iopub.status.idle": "2024-07-22T03:13:13.629007Z",
     "shell.execute_reply": "2024-07-22T03:13:13.627724Z"
    },
    "papermill": {
     "duration": 0.513646,
     "end_time": "2024-07-22T03:13:13.631831",
     "exception": false,
     "start_time": "2024-07-22T03:13:13.118185",
     "status": "completed"
    },
    "tags": []
   },
   "outputs": [
    {
     "name": "stdout",
     "output_type": "stream",
     "text": [
      "This version of the API is not optimized and should not be used to estimate the runtime of your code on the hidden test set.\n"
     ]
    },
    {
     "data": {
      "text/html": [
       "<div>\n",
       "<style scoped>\n",
       "    .dataframe tbody tr th:only-of-type {\n",
       "        vertical-align: middle;\n",
       "    }\n",
       "\n",
       "    .dataframe tbody tr th {\n",
       "        vertical-align: top;\n",
       "    }\n",
       "\n",
       "    .dataframe thead th {\n",
       "        text-align: right;\n",
       "    }\n",
       "</style>\n",
       "<table border=\"1\" class=\"dataframe\">\n",
       "  <thead>\n",
       "    <tr style=\"text-align: right;\">\n",
       "      <th></th>\n",
       "      <th>Date</th>\n",
       "      <th>SecuritiesCode</th>\n",
       "      <th>Rank</th>\n",
       "    </tr>\n",
       "  </thead>\n",
       "  <tbody>\n",
       "    <tr>\n",
       "      <th>0</th>\n",
       "      <td>2021-12-07</td>\n",
       "      <td>1301</td>\n",
       "      <td>497</td>\n",
       "    </tr>\n",
       "    <tr>\n",
       "      <th>1</th>\n",
       "      <td>2021-12-07</td>\n",
       "      <td>1332</td>\n",
       "      <td>498</td>\n",
       "    </tr>\n",
       "    <tr>\n",
       "      <th>2</th>\n",
       "      <td>2021-12-07</td>\n",
       "      <td>1333</td>\n",
       "      <td>499</td>\n",
       "    </tr>\n",
       "    <tr>\n",
       "      <th>3</th>\n",
       "      <td>2021-12-07</td>\n",
       "      <td>1375</td>\n",
       "      <td>500</td>\n",
       "    </tr>\n",
       "    <tr>\n",
       "      <th>4</th>\n",
       "      <td>2021-12-07</td>\n",
       "      <td>1376</td>\n",
       "      <td>1916</td>\n",
       "    </tr>\n",
       "  </tbody>\n",
       "</table>\n",
       "</div>"
      ],
      "text/plain": [
       "         Date  SecuritiesCode  Rank\n",
       "0  2021-12-07            1301   497\n",
       "1  2021-12-07            1332   498\n",
       "2  2021-12-07            1333   499\n",
       "3  2021-12-07            1375   500\n",
       "4  2021-12-07            1376  1916"
      ]
     },
     "execution_count": 6,
     "metadata": {},
     "output_type": "execute_result"
    }
   ],
   "source": [
    "sample_submission = pd.read_csv(\"/kaggle/input/jpx-tokyo-stock-exchange-prediction/example_test_files/sample_submission.csv\")\n",
    "#创建比赛的环境\n",
    "env = jpx_tokyo_market_prediction.make_env()\n",
    "#遍历测试数据的一个迭代器\n",
    "iter_test = env.iter_test()\n",
    "\n",
    "def add_rank(df):\n",
    "    df[\"Rank\"] = df.groupby(\"Date\")[\"Target\"].rank(ascending=False, method=\"first\") - 1 \n",
    "    df[\"Rank\"] = df[\"Rank\"].astype(\"int\")\n",
    "    return df\n",
    "\n",
    "\n",
    "for (prices, options, financials, trades, secondary_prices, sample_prediction) in iter_test:  \n",
    "    prices = add_features(prices)\n",
    "    prices['Target'] = model.predict(fill_nan_inf(prices)[features])\n",
    "    prices['target_median']=prices.groupby(\"Date\")[\"Target\"].transform('median')\n",
    "    prices.loc[prices['SecuritiesCode'].isin(list_spred_h),'Target']=prices['target_median']\n",
    "    prices = add_rank(prices)\n",
    "    sample_prediction['Rank'] = prices['Rank']\n",
    "    env.predict(sample_prediction)\n",
    "    \n",
    "sample_prediction.head()"
   ]
  }
 ],
 "metadata": {
  "kaggle": {
   "accelerator": "none",
   "dataSources": [
    {
     "databundleVersionId": 3935619,
     "sourceId": 34349,
     "sourceType": "competition"
    }
   ],
   "dockerImageVersionId": 30301,
   "isGpuEnabled": false,
   "isInternetEnabled": false,
   "language": "python",
   "sourceType": "notebook"
  },
  "kernelspec": {
   "display_name": "Python 3",
   "language": "python",
   "name": "python3"
  },
  "language_info": {
   "codemirror_mode": {
    "name": "ipython",
    "version": 3
   },
   "file_extension": ".py",
   "mimetype": "text/x-python",
   "name": "python",
   "nbconvert_exporter": "python",
   "pygments_lexer": "ipython3",
   "version": "3.7.12"
  },
  "papermill": {
   "default_parameters": {},
   "duration": 352.314424,
   "end_time": "2024-07-22T03:13:14.464123",
   "environment_variables": {},
   "exception": null,
   "input_path": "__notebook__.ipynb",
   "output_path": "__notebook__.ipynb",
   "parameters": {},
   "start_time": "2024-07-22T03:07:22.149699",
   "version": "2.3.4"
  }
 },
 "nbformat": 4,
 "nbformat_minor": 5
}
